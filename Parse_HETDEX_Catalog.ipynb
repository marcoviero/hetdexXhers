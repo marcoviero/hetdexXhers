{
 "cells": [
  {
   "cell_type": "code",
   "execution_count": 1,
   "id": "69aa70a2",
   "metadata": {},
   "outputs": [
    {
     "data": {
      "text/html": [
       "<style>.container { width:98% !important; }</style>"
      ],
      "text/plain": [
       "<IPython.core.display.HTML object>"
      ]
     },
     "metadata": {},
     "output_type": "display_data"
    }
   ],
   "source": [
    "import os\n",
    "import numpy as np\n",
    "import pandas as pd\n",
    "from astropy.wcs import WCS\n",
    "from astropy.io import fits\n",
    "import vaex\n",
    "import matplotlib.pyplot as plt\n",
    "\n",
    "from IPython.display import display, HTML\n",
    "display(HTML(\"<style>.container { width:98% !important; }</style>\"))"
   ]
  },
  {
   "cell_type": "code",
   "execution_count": 2,
   "id": "28ee97c0",
   "metadata": {},
   "outputs": [],
   "source": [
    "path_catalog = os.path.join(os.environ['CATSPATH'],'HETDEX')\n",
    "file_catalog = 'source_catalog_3.0.1.fits'\n",
    "file_footprint = 'hdr3.0.1_fibercoverage_fall.hdf5'"
   ]
  },
  {
   "cell_type": "code",
   "execution_count": 3,
   "id": "936286de",
   "metadata": {},
   "outputs": [
    {
     "name": "stdout",
     "output_type": "stream",
     "text": [
      "True\n",
      "True\n"
     ]
    }
   ],
   "source": [
    "print(os.path.isdir(path_catalog))\n",
    "print(os.path.isfile(os.path.join(path_catalog,file_catalog)))"
   ]
  },
  {
   "cell_type": "code",
   "execution_count": 4,
   "id": "cb801d1a",
   "metadata": {},
   "outputs": [],
   "source": [
    "df = vaex.open(os.path.join(path_catalog,file_catalog))"
   ]
  },
  {
   "cell_type": "code",
   "execution_count": 5,
   "id": "1af5f9d8",
   "metadata": {},
   "outputs": [
    {
     "data": {
      "text/plain": [
       "1650039"
      ]
     },
     "execution_count": 5,
     "metadata": {},
     "output_type": "execute_result"
    }
   ],
   "source": [
    "len(df)"
   ]
  },
  {
   "cell_type": "code",
   "execution_count": 6,
   "id": "53f3ee2c",
   "metadata": {},
   "outputs": [],
   "source": [
    "sn_cut = 5.2\n",
    "\n",
    "max_ra_hers = 36.2\n",
    "min_ra_hers = 13.4\n",
    "max_dec_hers = 2.4\n",
    "min_dec_hers = -2.4\n",
    "\n",
    "max_ra_helms = 36.2\n",
    "min_ra_helms = 348\n",
    "max_dec_helms = 9.5\n",
    "min_dec_helms = -9.5"
   ]
  },
  {
   "cell_type": "code",
   "execution_count": 7,
   "id": "97aef710",
   "metadata": {},
   "outputs": [],
   "source": [
    "idx_cut_hers = (df['flag_best'] == 1) & (df['sn'] > sn_cut) \\\n",
    "& ((df['ra'] > min_ra_hers) & (df['ra'] < max_ra_hers)) \\\n",
    "& ((df['dec'] > min_dec_hers) & (df['dec'] < max_dec_hers)) "
   ]
  },
  {
   "cell_type": "code",
   "execution_count": 8,
   "id": "eae7cb05",
   "metadata": {},
   "outputs": [],
   "source": [
    "idx_cut_helms = (df['flag_best'] == 1) & (df['sn'] > sn_cut) \\\n",
    "& ((df['ra'] > min_ra_helms) | (df['ra'] < max_ra_helms)) \\\n",
    "& ((df['dec'] > min_dec_helms) & (df['dec'] < max_dec_helms)) "
   ]
  },
  {
   "cell_type": "code",
   "execution_count": 8,
   "id": "c269957f",
   "metadata": {},
   "outputs": [],
   "source": [
    "df_hers = df[idx_cut_hers]"
   ]
  },
  {
   "cell_type": "code",
   "execution_count": 9,
   "id": "d3275d80",
   "metadata": {},
   "outputs": [],
   "source": [
    "df_hers['source_type'] = df_hers['source_type'].apply(lambda x: x.decode('utf-8')) "
   ]
  },
  {
   "cell_type": "code",
   "execution_count": 10,
   "id": "c304f013",
   "metadata": {},
   "outputs": [],
   "source": [
    "df_hers_cut = df_hers[(df_hers['source_type'] == 'lae') | (df_hers['source_type'] == 'agn')]"
   ]
  },
  {
   "cell_type": "code",
   "execution_count": 11,
   "id": "77077f54",
   "metadata": {},
   "outputs": [
    {
     "data": {
      "text/plain": [
       "42259"
      ]
     },
     "execution_count": 11,
     "metadata": {},
     "output_type": "execute_result"
    }
   ],
   "source": [
    "len(df_hers_cut)"
   ]
  },
  {
   "cell_type": "code",
   "execution_count": 13,
   "id": "7e7eab90",
   "metadata": {},
   "outputs": [],
   "source": [
    "df_helms = df[idx_cut_helms]"
   ]
  },
  {
   "cell_type": "code",
   "execution_count": 14,
   "id": "39df11cf",
   "metadata": {},
   "outputs": [],
   "source": [
    "df_helms['source_type'] = df_helms['source_type'].apply(lambda x: x.decode('utf-8')) "
   ]
  },
  {
   "cell_type": "code",
   "execution_count": 15,
   "id": "d7bfaa4f",
   "metadata": {},
   "outputs": [],
   "source": [
    "df_helms_cut = df_helms[(df_helms['source_type'] == 'lae') | (df_helms['source_type'] == 'agn')]"
   ]
  },
  {
   "cell_type": "code",
   "execution_count": 16,
   "id": "939bf6e4",
   "metadata": {},
   "outputs": [
    {
     "name": "stdout",
     "output_type": "stream",
     "text": [
      "44588\n",
      "56395\n"
     ]
    }
   ],
   "source": [
    "print(len(df_hers_cut))\n",
    "print(len(df_helms_cut))"
   ]
  },
  {
   "cell_type": "code",
   "execution_count": 105,
   "id": "271bbce2",
   "metadata": {},
   "outputs": [
    {
     "data": {
      "text/plain": [
       "['source_id',\n",
       " 'source_name',\n",
       " 'detectid',\n",
       " 'n_members',\n",
       " 'lum',\n",
       " 'ra_mean',\n",
       " 'dec_mean',\n",
       " 'icz',\n",
       " 'ixx',\n",
       " 'iyy',\n",
       " 'ixy',\n",
       " 'izz',\n",
       " 'a',\n",
       " 'b',\n",
       " 'pa',\n",
       " 'a2',\n",
       " 'b2',\n",
       " 'pa2',\n",
       " 'wave_group_id',\n",
       " 'wave_group_a',\n",
       " 'wave_group_b',\n",
       " 'wave_group_pa',\n",
       " 'wave_group_ra',\n",
       " 'wave_group_dec',\n",
       " 'wave_group_wave',\n",
       " 'z_agn',\n",
       " 'agn_vis_class',\n",
       " 'fwhm',\n",
       " 'throughput',\n",
       " 'fluxlimit_4540',\n",
       " 'shotid',\n",
       " 'field',\n",
       " 'n_ifu',\n",
       " 'ra',\n",
       " 'dec',\n",
       " 'date',\n",
       " 'obsid',\n",
       " 'wave',\n",
       " 'wave_err',\n",
       " 'flux',\n",
       " 'flux_err',\n",
       " 'linewidth',\n",
       " 'linewidth_err',\n",
       " 'continuum',\n",
       " 'continuum_err',\n",
       " 'sn',\n",
       " 'sn_err',\n",
       " 'chi2',\n",
       " 'chi2_err',\n",
       " 'multiframe',\n",
       " 'fibnum',\n",
       " 'x_raw',\n",
       " 'y_raw',\n",
       " 'amp',\n",
       " 'chi2fib',\n",
       " 'expnum',\n",
       " 'fiber_id',\n",
       " 'ifuid',\n",
       " 'ifuslot',\n",
       " 'inputid',\n",
       " 'noise_ratio',\n",
       " 'specid',\n",
       " 'weight',\n",
       " 'x_ifu',\n",
       " 'y_ifu',\n",
       " 'det_type',\n",
       " 'gmag',\n",
       " 'plya_classification',\n",
       " 'z_elixer',\n",
       " 'best_pz',\n",
       " 'combined_plae',\n",
       " 'combined_plae_lo',\n",
       " 'combined_plae_hi',\n",
       " 'flags',\n",
       " 'classification_labels',\n",
       " 'counterpart_ra',\n",
       " 'counterpart_dec',\n",
       " 'counterpart_mag',\n",
       " 'counterpart_mag_err',\n",
       " 'counterpart_dist',\n",
       " 'counterpart_catalog_name',\n",
       " 'counterpart_filter_name',\n",
       " 'counterpart_image_depth_mag',\n",
       " 'elixer_cat_src',\n",
       " 'apcor',\n",
       " 'flux_noise_1sigma',\n",
       " 'sn_3fib',\n",
       " 'sn_3fib_cen',\n",
       " 'sn_cen',\n",
       " 'flag_baddet',\n",
       " 'flag_badpix',\n",
       " 'flag_meteor',\n",
       " 'flag_gal',\n",
       " 'chi2fib_1',\n",
       " 'chi2fib_2',\n",
       " 'chi2fib_3',\n",
       " 'Av',\n",
       " 'ebv',\n",
       " 'flux_g',\n",
       " 'gaia_match_id',\n",
       " 'gaia_match_dist',\n",
       " 'ra_wise',\n",
       " 'dec_wise',\n",
       " 'primary',\n",
       " 'unwise_objid',\n",
       " 'wise_dist',\n",
       " 'flux_w1',\n",
       " 'flux_w2',\n",
       " 'zspec',\n",
       " 'ra_zspec',\n",
       " 'dec_zspec',\n",
       " 'zspec_catalog',\n",
       " 'zspec_dist',\n",
       " 'src_separation',\n",
       " 'flux_obs',\n",
       " 'flux_err_obs',\n",
       " 'continuum_obs',\n",
       " 'continuum_err_obs',\n",
       " 'flux_noise_1sigma_obs',\n",
       " 'z_diagnose',\n",
       " 'cls_diagnose',\n",
       " 'stellartype',\n",
       " 'z_hetdex',\n",
       " 'z_hetdex_conf',\n",
       " 'z_hetdex_src',\n",
       " 'source_type',\n",
       " 'agn_flag',\n",
       " 'line_id',\n",
       " 'dwave',\n",
       " 'selected_det',\n",
       " 'lum_lya',\n",
       " 'lum_lya_err',\n",
       " 'lum_oii',\n",
       " 'lum_oii_err',\n",
       " 'sn_im',\n",
       " 'dee_prob',\n",
       " 'tsne_x',\n",
       " 'tsne_y',\n",
       " 'flag_dee_tsne',\n",
       " 'pred_prob_lae',\n",
       " 'flag_apcor',\n",
       " 'flag_3540',\n",
       " 'flag_seldet',\n",
       " 'flag_fwhm',\n",
       " 'flag_best']"
      ]
     },
     "execution_count": 105,
     "metadata": {},
     "output_type": "execute_result"
    }
   ],
   "source": [
    "df.column_names"
   ]
  },
  {
   "cell_type": "code",
   "execution_count": 12,
   "id": "e7f49ba2",
   "metadata": {},
   "outputs": [],
   "source": [
    "columns_keep=['ra','dec','sn','zspec','z_hetdex','lum','lum_lya','lum_oii','Av','flux']"
   ]
  },
  {
   "cell_type": "code",
   "execution_count": 13,
   "id": "513f0434",
   "metadata": {},
   "outputs": [],
   "source": [
    "df_hers_keep = df_hers_cut[columns_keep]"
   ]
  },
  {
   "cell_type": "code",
   "execution_count": 20,
   "id": "204e3d09",
   "metadata": {},
   "outputs": [],
   "source": [
    "df_helms_keep = df_helms_cut[columns_keep]"
   ]
  },
  {
   "cell_type": "code",
   "execution_count": 21,
   "id": "08eff139",
   "metadata": {},
   "outputs": [
    {
     "data": {
      "text/html": [
       "<table>\n",
       "<thead>\n",
       "<tr><th>#                                 </th><th>ra       </th><th>dec      </th><th>sn  </th><th>zspec  </th><th>z_hetdex          </th><th>lum      </th><th>lum_lya               </th><th>lum_oii  </th><th>Av         </th><th>flux     </th></tr>\n",
       "</thead>\n",
       "<tbody>\n",
       "<tr><td><i style='opacity: 0.6'>0</i>     </td><td>20.53993 </td><td>0.244862 </td><td>5.38</td><td>nan    </td><td>2.4957923889160156</td><td>89619.73 </td><td>1.180687992796691e+43 </td><td>0.0      </td><td>0.09266784 </td><td>22.716238</td></tr>\n",
       "<tr><td><i style='opacity: 0.6'>1</i>     </td><td>20.545244</td><td>0.253239 </td><td>5.25</td><td>nan    </td><td>2.6540095806121826</td><td>96509.29 </td><td>9.414193659373274e+42 </td><td>0.0      </td><td>0.092467636</td><td>15.612694</td></tr>\n",
       "<tr><td><i style='opacity: 0.6'>2</i>     </td><td>20.52413 </td><td>0.164465 </td><td>5.86</td><td>nan    </td><td>2.5198941230773926</td><td>82966.414</td><td>1.4108146888730188e+43</td><td>0.0      </td><td>0.093211666</td><td>26.520027</td></tr>\n",
       "<tr><td><i style='opacity: 0.6'>3</i>     </td><td>20.510782</td><td>0.207167 </td><td>5.41</td><td>nan    </td><td>2.166813373565674 </td><td>90769.516</td><td>1.4283920937239683e+43</td><td>0.0      </td><td>0.092635475</td><td>38.727   </td></tr>\n",
       "<tr><td><i style='opacity: 0.6'>4</i>     </td><td>20.554785</td><td>0.153625 </td><td>5.48</td><td>nan    </td><td>2.7243826389312744</td><td>90769.516</td><td>1.124965691960465e+43 </td><td>0.0      </td><td>0.09452346 </td><td>17.515425</td></tr>\n",
       "<tr><td>...                               </td><td>...      </td><td>...      </td><td>... </td><td>...    </td><td>...               </td><td>...      </td><td>...                   </td><td>...      </td><td>...        </td><td>...      </td></tr>\n",
       "<tr><td><i style='opacity: 0.6'>56,390</i></td><td>8.662994 </td><td>-1.605137</td><td>5.66</td><td>nan    </td><td>1.9661749601364136</td><td>187024.66</td><td>6.491128583892634e+42 </td><td>0.0      </td><td>0.071481675</td><td>22.302742</td></tr>\n",
       "<tr><td><i style='opacity: 0.6'>56,391</i></td><td>8.665262 </td><td>-1.764491</td><td>5.89</td><td>nan    </td><td>2.4444215297698975</td><td>92760.0  </td><td>6.441751301978219e+42 </td><td>0.0      </td><td>0.076801024</td><td>13.033772</td></tr>\n",
       "<tr><td><i style='opacity: 0.6'>56,392</i></td><td>8.725013 </td><td>-1.751958</td><td>5.45</td><td>nan    </td><td>2.0304934978485107</td><td>88650.69 </td><td>4.661958532367357e+42 </td><td>0.0      </td><td>0.07412108 </td><td>14.807726</td></tr>\n",
       "<tr><td><i style='opacity: 0.6'>56,393</i></td><td>8.717047 </td><td>-1.779631</td><td>9.7 </td><td>nan    </td><td>2.124589681625366 </td><td>191343.31</td><td>1.1736372805857688e+43</td><td>0.0      </td><td>0.07601444 </td><td>33.381443</td></tr>\n",
       "<tr><td><i style='opacity: 0.6'>56,394</i></td><td>8.648372 </td><td>-1.58031 </td><td>6.11</td><td>nan    </td><td>3.4577393531799316</td><td>91789.984</td><td>9.530982659599735e+42 </td><td>0.0      </td><td>0.06955931 </td><td>8.379262 </td></tr>\n",
       "</tbody>\n",
       "</table>"
      ],
      "text/plain": [
       "#       ra         dec        sn    zspec    z_hetdex            lum        lum_lya                 lum_oii    Av           flux\n",
       "0       20.53993   0.244862   5.38  nan      2.4957923889160156  89619.73   1.180687992796691e+43   0.0        0.09266784   22.716238\n",
       "1       20.545244  0.253239   5.25  nan      2.6540095806121826  96509.29   9.414193659373274e+42   0.0        0.092467636  15.612694\n",
       "2       20.52413   0.164465   5.86  nan      2.5198941230773926  82966.414  1.4108146888730188e+43  0.0        0.093211666  26.520027\n",
       "3       20.510782  0.207167   5.41  nan      2.166813373565674   90769.516  1.4283920937239683e+43  0.0        0.092635475  38.727\n",
       "4       20.554785  0.153625   5.48  nan      2.7243826389312744  90769.516  1.124965691960465e+43   0.0        0.09452346   17.515425\n",
       "...     ...        ...        ...   ...      ...                 ...        ...                     ...        ...          ...\n",
       "56,390  8.662994   -1.605137  5.66  nan      1.9661749601364136  187024.66  6.491128583892634e+42   0.0        0.071481675  22.302742\n",
       "56,391  8.665262   -1.764491  5.89  nan      2.4444215297698975  92760.0    6.441751301978219e+42   0.0        0.076801024  13.033772\n",
       "56,392  8.725013   -1.751958  5.45  nan      2.0304934978485107  88650.69   4.661958532367357e+42   0.0        0.07412108   14.807726\n",
       "56,393  8.717047   -1.779631  9.7   nan      2.124589681625366   191343.31  1.1736372805857688e+43  0.0        0.07601444   33.381443\n",
       "56,394  8.648372   -1.58031   6.11  nan      3.4577393531799316  91789.984  9.530982659599735e+42   0.0        0.06955931   8.379262"
      ]
     },
     "execution_count": 21,
     "metadata": {},
     "output_type": "execute_result"
    }
   ],
   "source": [
    "df_helms_keep"
   ]
  },
  {
   "cell_type": "code",
   "execution_count": 14,
   "id": "938b2641",
   "metadata": {},
   "outputs": [],
   "source": [
    "df_foot = vaex.open(os.path.join(path_catalog,file_footprint))"
   ]
  },
  {
   "cell_type": "code",
   "execution_count": 15,
   "id": "f17e074e",
   "metadata": {},
   "outputs": [],
   "source": [
    "idx_cut_hers_foot = ((df_foot['ra'] > min_ra_hers) & (df_foot['ra'] < max_ra_hers)) \\\n",
    "& ((df_foot['dec'] > min_dec_hers) & (df_foot['dec'] < max_dec_hers)) "
   ]
  },
  {
   "cell_type": "code",
   "execution_count": 24,
   "id": "b0b2ddd2",
   "metadata": {},
   "outputs": [],
   "source": [
    "idx_cut_helms_foot = ((df_foot['ra'] > min_ra_helms) | (df_foot['ra'] < max_ra_helms)) \\\n",
    "& ((df_foot['dec'] > min_dec_helms) & (df_foot['dec'] < max_dec_helms)) "
   ]
  },
  {
   "cell_type": "code",
   "execution_count": 16,
   "id": "83b2f755",
   "metadata": {},
   "outputs": [],
   "source": [
    "df_hers_foot = df_foot[idx_cut_hers_foot]"
   ]
  },
  {
   "cell_type": "code",
   "execution_count": 17,
   "id": "249f16d4",
   "metadata": {
    "scrolled": true
   },
   "outputs": [
    {
     "data": {
      "text/html": [
       "<table>\n",
       "<thead>\n",
       "<tr><th>#                                     </th><th>multiframe  </th><th>ra       </th><th>dec       </th><th>fiber_id  </th><th>healpix   </th><th>amp  </th><th>date    </th><th>datevobs  </th><th>expnum  </th><th>fibidx  </th><th>fibnum  </th><th>fpx    </th><th>fpy    </th><th>ifuid  </th><th>ifuslot  </th><th>ifux  </th><th>ifuy  </th><th>shotid     </th><th>specid  </th><th>flag  </th><th>amp_flag  </th><th>meteor_flag  </th><th>gal_flag  </th></tr>\n",
       "</thead>\n",
       "<tbody>\n",
       "<tr><td><i style='opacity: 0.6'>0</i>         </td><td>--          </td><td>20.229696</td><td>-0.1810548</td><td>--        </td><td>6462840005</td><td>--   </td><td>20180810</td><td>--        </td><td>1       </td><td>0       </td><td>1       </td><td>-37.83 </td><td>337.11 </td><td>--     </td><td>--       </td><td>11.44 </td><td>-13.22</td><td>20180810010</td><td>--      </td><td>84    </td><td>84        </td><td>84           </td><td>84        </td></tr>\n",
       "<tr><td><i style='opacity: 0.6'>1</i>         </td><td>--          </td><td>20.229395</td><td>-0.1804172</td><td>--        </td><td>6462708933</td><td>--   </td><td>20180810</td><td>--        </td><td>1       </td><td>1       </td><td>2       </td><td>-40.37 </td><td>337.11 </td><td>--     </td><td>--       </td><td>8.9   </td><td>-13.22</td><td>20180810010</td><td>--      </td><td>84    </td><td>84        </td><td>84           </td><td>84        </td></tr>\n",
       "<tr><td><i style='opacity: 0.6'>2</i>         </td><td>--          </td><td>20.229094</td><td>-0.1797797</td><td>--        </td><td>6462577861</td><td>--   </td><td>20180810</td><td>--        </td><td>1       </td><td>2       </td><td>3       </td><td>-42.91 </td><td>337.11 </td><td>--     </td><td>--       </td><td>6.36  </td><td>-13.22</td><td>20180810010</td><td>--      </td><td>84    </td><td>84        </td><td>84           </td><td>84        </td></tr>\n",
       "<tr><td><i style='opacity: 0.6'>3</i>         </td><td>--          </td><td>20.22879 </td><td>-0.1791396</td><td>--        </td><td>6462446789</td><td>--   </td><td>20180810</td><td>--        </td><td>1       </td><td>3       </td><td>4       </td><td>-45.46 </td><td>337.11 </td><td>--     </td><td>--       </td><td>3.81  </td><td>-13.22</td><td>20180810010</td><td>--      </td><td>84    </td><td>84        </td><td>84           </td><td>84        </td></tr>\n",
       "<tr><td><i style='opacity: 0.6'>4</i>         </td><td>--          </td><td>20.228487</td><td>-0.178502 </td><td>--        </td><td>6462446789</td><td>--   </td><td>20180810</td><td>--        </td><td>1       </td><td>4       </td><td>5       </td><td>-48.0  </td><td>337.11 </td><td>--     </td><td>--       </td><td>1.27  </td><td>-13.22</td><td>20180810010</td><td>--      </td><td>84    </td><td>84        </td><td>84           </td><td>84        </td></tr>\n",
       "<tr><td>...                                   </td><td>...         </td><td>...      </td><td>...       </td><td>...       </td><td>...       </td><td>...  </td><td>...     </td><td>...       </td><td>...     </td><td>...     </td><td>...     </td><td>...    </td><td>...    </td><td>...    </td><td>...      </td><td>...   </td><td>...   </td><td>...        </td><td>...     </td><td>...   </td><td>...       </td><td>...          </td><td>...       </td></tr>\n",
       "<tr><td><i style='opacity: 0.6'>64,464,991</i></td><td>--          </td><td>13.987807</td><td>-0.1142629</td><td>--        </td><td>6455235556</td><td>--   </td><td>20180113</td><td>--        </td><td>2       </td><td>107     </td><td>108     </td><td>275.345</td><td>-363.89</td><td>--     </td><td>--       </td><td>24.15 </td><td>-13.22</td><td>20180113006</td><td>--      </td><td>84    </td><td>84        </td><td>84           </td><td>84        </td></tr>\n",
       "<tr><td><i style='opacity: 0.6'>64,464,992</i></td><td>--          </td><td>13.988149</td><td>-0.1136452</td><td>--        </td><td>6455104485</td><td>--   </td><td>20180113</td><td>--        </td><td>2       </td><td>108     </td><td>109     </td><td>272.805</td><td>-363.89</td><td>--     </td><td>--       </td><td>21.61 </td><td>-13.22</td><td>20180113006</td><td>--      </td><td>84    </td><td>84        </td><td>84           </td><td>84        </td></tr>\n",
       "<tr><td><i style='opacity: 0.6'>64,464,993</i></td><td>--          </td><td>13.988489</td><td>-0.1130275</td><td>--        </td><td>6455104485</td><td>--   </td><td>20180113</td><td>--        </td><td>2       </td><td>109     </td><td>110     </td><td>270.265</td><td>-363.89</td><td>--     </td><td>--       </td><td>19.07 </td><td>-13.22</td><td>20180113006</td><td>--      </td><td>84    </td><td>84        </td><td>84           </td><td>84        </td></tr>\n",
       "<tr><td><i style='opacity: 0.6'>64,464,994</i></td><td>--          </td><td>13.988831</td><td>-0.1124098</td><td>--        </td><td>6455104485</td><td>--   </td><td>20180113</td><td>--        </td><td>2       </td><td>110     </td><td>111     </td><td>267.725</td><td>-363.89</td><td>--     </td><td>--       </td><td>16.53 </td><td>-13.22</td><td>20180113006</td><td>--      </td><td>84    </td><td>84        </td><td>84           </td><td>84        </td></tr>\n",
       "<tr><td><i style='opacity: 0.6'>64,464,995</i></td><td>--          </td><td>13.989173</td><td>-0.1117896</td><td>--        </td><td>6454973413</td><td>--   </td><td>20180113</td><td>--        </td><td>2       </td><td>111     </td><td>112     </td><td>265.175</td><td>-363.89</td><td>--     </td><td>--       </td><td>13.98 </td><td>-13.22</td><td>20180113006</td><td>--      </td><td>84    </td><td>84        </td><td>84           </td><td>84        </td></tr>\n",
       "</tbody>\n",
       "</table>"
      ],
      "text/plain": [
       "#           multiframe    ra         dec         fiber_id    healpix     amp    date      datevobs    expnum    fibidx    fibnum    fpx      fpy      ifuid    ifuslot    ifux    ifuy    shotid       specid    flag    amp_flag    meteor_flag    gal_flag\n",
       "0           --            20.229696  -0.1810548  --          6462840005  --     20180810  --          1         0         1         -37.83   337.11   --       --         11.44   -13.22  20180810010  --        84      84          84             84\n",
       "1           --            20.229395  -0.1804172  --          6462708933  --     20180810  --          1         1         2         -40.37   337.11   --       --         8.9     -13.22  20180810010  --        84      84          84             84\n",
       "2           --            20.229094  -0.1797797  --          6462577861  --     20180810  --          1         2         3         -42.91   337.11   --       --         6.36    -13.22  20180810010  --        84      84          84             84\n",
       "3           --            20.22879   -0.1791396  --          6462446789  --     20180810  --          1         3         4         -45.46   337.11   --       --         3.81    -13.22  20180810010  --        84      84          84             84\n",
       "4           --            20.228487  -0.178502   --          6462446789  --     20180810  --          1         4         5         -48.0    337.11   --       --         1.27    -13.22  20180810010  --        84      84          84             84\n",
       "...         ...           ...        ...         ...         ...         ...    ...       ...         ...       ...       ...       ...      ...      ...      ...        ...     ...     ...          ...       ...     ...         ...            ...\n",
       "64,464,991  --            13.987807  -0.1142629  --          6455235556  --     20180113  --          2         107       108       275.345  -363.89  --       --         24.15   -13.22  20180113006  --        84      84          84             84\n",
       "64,464,992  --            13.988149  -0.1136452  --          6455104485  --     20180113  --          2         108       109       272.805  -363.89  --       --         21.61   -13.22  20180113006  --        84      84          84             84\n",
       "64,464,993  --            13.988489  -0.1130275  --          6455104485  --     20180113  --          2         109       110       270.265  -363.89  --       --         19.07   -13.22  20180113006  --        84      84          84             84\n",
       "64,464,994  --            13.988831  -0.1124098  --          6455104485  --     20180113  --          2         110       111       267.725  -363.89  --       --         16.53   -13.22  20180113006  --        84      84          84             84\n",
       "64,464,995  --            13.989173  -0.1117896  --          6454973413  --     20180113  --          2         111       112       265.175  -363.89  --       --         13.98   -13.22  20180113006  --        84      84          84             84"
      ]
     },
     "execution_count": 17,
     "metadata": {},
     "output_type": "execute_result"
    }
   ],
   "source": [
    "df_hers_foot"
   ]
  },
  {
   "cell_type": "code",
   "execution_count": 27,
   "id": "67dee65b",
   "metadata": {},
   "outputs": [],
   "source": [
    "df_helms_foot = df_foot[idx_cut_helms_foot]"
   ]
  },
  {
   "cell_type": "code",
   "execution_count": 18,
   "id": "5b50eab8",
   "metadata": {},
   "outputs": [
    {
     "name": "stdout",
     "output_type": "stream",
     "text": [
      "64464996\n"
     ]
    },
    {
     "ename": "NameError",
     "evalue": "name 'df_helms_foot' is not defined",
     "output_type": "error",
     "traceback": [
      "\u001b[0;31m---------------------------------------------------------------------------\u001b[0m",
      "\u001b[0;31mNameError\u001b[0m                                 Traceback (most recent call last)",
      "Cell \u001b[0;32mIn [18], line 2\u001b[0m\n\u001b[1;32m      1\u001b[0m \u001b[38;5;28mprint\u001b[39m(\u001b[38;5;28mlen\u001b[39m(df_hers_foot))\n\u001b[0;32m----> 2\u001b[0m \u001b[38;5;28mprint\u001b[39m(\u001b[38;5;28mlen\u001b[39m(\u001b[43mdf_helms_foot\u001b[49m))\n",
      "\u001b[0;31mNameError\u001b[0m: name 'df_helms_foot' is not defined"
     ]
    }
   ],
   "source": [
    "print(len(df_hers_foot))\n",
    "print(len(df_helms_foot))"
   ]
  },
  {
   "cell_type": "code",
   "execution_count": 19,
   "id": "c2d2c023",
   "metadata": {},
   "outputs": [],
   "source": [
    "hers_maps = {'PSW':'hers-act_SANEPIC_PSW_20121012',\n",
    "             'PMW':'hers-act_SANEPIC_PMW_20121012',\n",
    "             'PLW':'hers-act_SANEPIC_PLW_20121012'\n",
    "            }\n",
    "helms_maps = {'PSW':'HeLMS_PSW_SANEPIC_v0.3',\n",
    "              'PMW':'HeLMS_PLW_SANEPIC_v0.3',\n",
    "              'PLW':'HeLMS_PMW_SANEPIC_v0.3'\n",
    "             }"
   ]
  },
  {
   "cell_type": "raw",
   "id": "c5fb3f68",
   "metadata": {},
   "source": [
    "hers_xmaps = {'combined':\n",
    "             {'PSW':'hers-act_SANEPIC_PSW_20121012',\n",
    "              'PMW':'hers-act_SANEPIC_PMW_20121012',\n",
    "              'PLW':'hers-act_SANEPIC_PLW_20121012'\n",
    "             }, \n",
    "             'jk1':\n",
    "             {'PSW':'hers-act_SANEPIC_PSW_20121012',\n",
    "              'PMW':'hers-act_SANEPIC_PMW_20121012',\n",
    "              'PLW':'hers-act_SANEPIC_PLW_20121012'\n",
    "             }, \n",
    "             'jk2':\n",
    "             {'PSW':'hers-act_SANEPIC_PSW_20121012',\n",
    "              'PMW':'hers-act_SANEPIC_PMW_20121012',\n",
    "              'PLW':'hers-act_SANEPIC_PLW_20121012'\n",
    "             }, \n",
    "            }\n",
    "helms_xmaps = {'combined':\n",
    "             {'PSW':'HeLMS_PSW_SANEPIC_v0.3',\n",
    "              'PMW':'HeLMS_PLW_SANEPIC_v0.3',\n",
    "              'PLW':'HeLMS_PMW_SANEPIC_v0.3'\n",
    "             }, \n",
    "             'jk1':\n",
    "             {'PSW':'HeLMS_PSW_SANEPIC_v0.3',\n",
    "              'PMW':'HeLMS_PLW_SANEPIC_v0.3',\n",
    "              'PLW':'HeLMS_PMW_SANEPIC_v0.3'\n",
    "             }, \n",
    "             'jk2':\n",
    "             {'PSW':'HeLMS_PSW_SANEPIC_v0.3',\n",
    "              'PMW':'HeLMS_PLW_SANEPIC_v0.3',\n",
    "              'PLW':'HeLMS_PMW_SANEPIC_v0.3'\n",
    "             }, \n",
    "            }"
   ]
  },
  {
   "cell_type": "raw",
   "id": "02f64c5f",
   "metadata": {},
   "source": [
    "class CrossMapObject():\n",
    "    maps={}\n",
    "    masks={}\n",
    "    headers={}\n",
    "    pix_sizes_arcsec={}\n",
    "    def __init__(self, base_path, jack_dict, crop=False, l20=None, hanning=False, kaiser=False):\n",
    "        for jack, map_dict in jack_dict.items():\n",
    "            self.maps[jack]={}\n",
    "            self.masks[jack]={}\n",
    "            self.headers[jack]={}\n",
    "            self.pix_sizes_arcsec[jack]={}\n",
    "            for key, map_name in map_dict.items():\n",
    "                map_path = os.path.join(base_path, map_name+'.fits')\n",
    "                try:\n",
    "                    map_in, hd_in = fits.getdata(map_path, 0, header=True)\n",
    "                except:\n",
    "                    map_in, hd_in = fits.getdata(map_path, 1, header=True)\n",
    "                try:\n",
    "                    pix_arcsec = hd_in['CDELT2']*3600\n",
    "                except:\n",
    "                    pix_arcsec = hd_in['CD2_2']*3600\n",
    "                    \n",
    "                if crop:\n",
    "                    cx=crop\n",
    "                    cy=crop\n",
    "                    dims0 = np.shape(map_in)\n",
    "                    map_in=map_in[dims0[0]//2-cx//2:dims0[0]//2+cx//2,dims0[1]//2-cy//2:dims0[1]//2+cy//2]\n",
    "                    \n",
    "                dims = np.shape(map_in)\n",
    "                self.headers[jack][key] = hd_in\n",
    "                self.pix_sizes_arcsec[jack][key] = pix_arcsec\n",
    "                \n",
    "                mask_in=np.ones_like(map_in)\n",
    "                mask_in[np.isnan(map_in)]=0\n",
    "                # Hanning Mask\n",
    "                if hanning:\n",
    "                    window2d = np.sqrt(np.outer(np.abs(np.hanning(dims[0])),np.abs(np.hanning(dims[1]))))\n",
    "                    mask_in*=window2d\n",
    "                # Kaiser Mask (beta=kaiser) beta=4 recommended\n",
    "                if kaiser:\n",
    "                    window2d = np.sqrt(np.outer(np.abs(np.kaiser(dims[0],kaiser)),np.abs(np.kaiser(dims[1],kaiser))))\n",
    "                    mask_in*=window2d\n",
    "\n",
    "                map_in[np.isnan(map_in)]=0\n",
    "                if l20:\n",
    "                    self.maps[jack][key] = np.zeros([l20,l20])\n",
    "                    self.maps[jack][key][:dims[0],:dims[1]] = map_in\n",
    "                    self.masks[jack][key] = np.zeros([l20,l20])\n",
    "                    self.masks[jack][key][:dims[0],:dims[1]] = mask_in\n",
    "                else:\n",
    "                    self.maps[jack][key] = map_in\n",
    "                    self.masks[jack][key] = mask_in"
   ]
  },
  {
   "cell_type": "code",
   "execution_count": 20,
   "id": "c1b7dcdc",
   "metadata": {},
   "outputs": [],
   "source": [
    "class MapObject():\n",
    "    maps={}\n",
    "    masks={}\n",
    "    headers={}\n",
    "    pix_sizes_arcsec={}\n",
    "    def __init__(self, base_path, map_dict, crop=False, l20=None, hanning=False):\n",
    "        \n",
    "        for key, map_name in map_dict.items():\n",
    "            map_path = os.path.join(base_path, map_name+'.fits')\n",
    "            try:\n",
    "                map_in, hd_in = fits.getdata(map_path, 0, header=True)\n",
    "            except:\n",
    "                map_in, hd_in = fits.getdata(map_path, 1, header=True)\n",
    "            try:\n",
    "                pix_arcsec = hd_in['CDELT2']*3600\n",
    "            except:\n",
    "                pix_arcsec = hd_in['CD2_2']*3600\n",
    "            print(key)\n",
    "            print(pix_arcsec)\n",
    "            \n",
    "            if crop:\n",
    "                cx=crop\n",
    "                cy=crop\n",
    "                dims0 = np.shape(map_in)\n",
    "                map_in=map_in[dims0[0]//2-cx//2:dims0[0]//2+cx//2,dims0[1]//2-cy//2:dims0[1]//2+cy//2]\n",
    "                \n",
    "            dims = np.shape(map_in)\n",
    "            print(dims)\n",
    "            self.headers[key] = hd_in\n",
    "            self.pix_sizes_arcsec[key] = pix_arcsec\n",
    "            \n",
    "            # Hanning Mask\n",
    "            window2d = np.sqrt(np.outer(np.abs(np.hanning(dims[0])),np.abs(np.hanning(dims[1]))))\n",
    "            mask_in=np.ones_like(map_in)\n",
    "            mask_in[np.isnan(map_in)]=0\n",
    "            if hanning:\n",
    "                mask_in*=window2d\n",
    "            map_in[np.isnan(map_in)]=0\n",
    "            \n",
    "            if l20:\n",
    "                self.maps[key] = np.zeros([l20,l20])\n",
    "                self.maps[key][:dims[0],:dims[1]] = map_in\n",
    "                self.masks[key] = np.zeros([l20,l20])\n",
    "                self.masks[key][:dims[0],:dims[1]] = mask_in\n",
    "            else:\n",
    "                self.maps[key] = map_in\n",
    "                self.masks[key] = mask_in"
   ]
  },
  {
   "cell_type": "code",
   "execution_count": 21,
   "id": "d498e424",
   "metadata": {},
   "outputs": [
    {
     "name": "stdout",
     "output_type": "stream",
     "text": [
      "PSW\n",
      "7.425000000000001\n",
      "(2252, 10989)\n",
      "PMW\n",
      "9.899999999999999\n",
      "(1694, 8244)\n",
      "PLW\n",
      "14.850000000000001\n",
      "(1130, 5497)\n"
     ]
    }
   ],
   "source": [
    "path_hers_maps = os.path.join(os.environ['MAPSPATH'],'Herschel','Hers')\n",
    "#hers_obj = CrossMapObject(path_hers_maps, hers_maps)\n",
    "hers_obj = MapObject(path_hers_maps, hers_maps)"
   ]
  },
  {
   "cell_type": "code",
   "execution_count": 60,
   "id": "462ca866",
   "metadata": {},
   "outputs": [
    {
     "data": {
      "text/plain": [
       "404.04040404040404"
      ]
     },
     "execution_count": 60,
     "metadata": {},
     "output_type": "execute_result"
    }
   ],
   "source": [
    "100/(14.85/60)"
   ]
  },
  {
   "cell_type": "code",
   "execution_count": 45,
   "id": "c2190a3b",
   "metadata": {},
   "outputs": [],
   "source": [
    "path_helms_maps = os.path.join(os.environ['MAPSPATH'],'Herschel','HeLMS')\n",
    "#helms_obj = CrossMapObject(path_helms_maps, helms_maps)\n",
    "helms_obj = MapObject(path_helms_maps, helms_maps)"
   ]
  },
  {
   "cell_type": "code",
   "execution_count": 22,
   "id": "17e11bde",
   "metadata": {},
   "outputs": [
    {
     "name": "stdout",
     "output_type": "stream",
     "text": [
      "122364\n"
     ]
    }
   ],
   "source": [
    "ra_hers = df_hers['ra'].values\n",
    "dec_hers = df_hers['dec'].values\n",
    "print(len(ra_hers))"
   ]
  },
  {
   "cell_type": "code",
   "execution_count": 52,
   "id": "167bba70",
   "metadata": {},
   "outputs": [
    {
     "name": "stdout",
     "output_type": "stream",
     "text": [
      "163818\n"
     ]
    }
   ],
   "source": [
    "ra_helms = df_helms['ra'].values\n",
    "dec_helms = df_helms['dec'].values\n",
    "print(len(ra_helms))"
   ]
  },
  {
   "cell_type": "code",
   "execution_count": 23,
   "id": "b426f10d",
   "metadata": {},
   "outputs": [],
   "source": [
    "footprint_ra_hers = df_hers_foot['ra'].values\n",
    "footprint_dec_hers = df_hers_foot['dec'].values"
   ]
  },
  {
   "cell_type": "code",
   "execution_count": 46,
   "id": "a301d8e5",
   "metadata": {},
   "outputs": [],
   "source": [
    "footprint_ra_helms = df_helms_foot['ra'].values\n",
    "footprint_dec_helms = df_helms_foot['dec'].values"
   ]
  },
  {
   "cell_type": "code",
   "execution_count": 75,
   "id": "38741c8d",
   "metadata": {},
   "outputs": [],
   "source": [
    "wv = 'PLW'\n",
    "hd_hers = hers_obj.headers[wv]\n",
    "wmap = WCS(hd_hers)\n",
    "footprint_hers = np.zeros_like(hers_obj.masks[wv])\n",
    "cms=footprint_hers.shape\n",
    "# CONVERT FROM RA/DEC to X/Y\n",
    "ty, tx = wmap.wcs_world2pix(footprint_ra_hers, footprint_dec_hers, 0)\n",
    "# CHECK FOR SOURCES THAT FALL OUTSIDE MAP\n",
    "ind_keep = np.where((tx >= 0) & (np.round(tx) < cms[0]) & (ty >= 0) & (np.round(ty) < cms[1]))\n",
    "real_x = np.round(tx[ind_keep]).astype(int)\n",
    "real_y = np.round(ty[ind_keep]).astype(int)\n",
    "footprint_hers[real_x, real_y] += 1"
   ]
  },
  {
   "cell_type": "code",
   "execution_count": 69,
   "id": "27c3584e",
   "metadata": {},
   "outputs": [
    {
     "data": {
      "text/plain": [
       "7453"
      ]
     },
     "execution_count": 69,
     "metadata": {},
     "output_type": "execute_result"
    }
   ],
   "source": [
    "np.sum(real_x==0)"
   ]
  },
  {
   "cell_type": "code",
   "execution_count": 47,
   "id": "86e5c156",
   "metadata": {},
   "outputs": [
    {
     "name": "stderr",
     "output_type": "stream",
     "text": [
      "WARNING: FITSFixedWarning: 'datfix' made the change 'Set MJD-OBS to 55941.932928 from DATE-OBS'. [astropy.wcs.wcs]\n"
     ]
    }
   ],
   "source": [
    "wv = 'PLW'\n",
    "hd_helms = helms_obj.headers[wv]\n",
    "wmap = WCS(hd_helms)\n",
    "footprint_helms = np.zeros_like(helms_obj.masks[wv])\n",
    "cms=footprint_helms.shape\n",
    "# CONVERT FROM RA/DEC to X/Y\n",
    "ty, tx = wmap.wcs_world2pix(footprint_ra_helms, footprint_dec_helms, 0)\n",
    "# CHECK FOR SOURCES THAT FALL OUTSIDE MAP\n",
    "ind_keep = np.where((tx >= 0) & (np.round(tx) < cms[0]) & (ty >= 0) & (np.round(ty) < cms[1]))\n",
    "real_x = np.round(tx[ind_keep]).astype(int)\n",
    "real_y = np.round(ty[ind_keep]).astype(int)\n",
    "footprint_helms[real_x, real_y] += 1"
   ]
  },
  {
   "cell_type": "code",
   "execution_count": 74,
   "id": "8ece40e9",
   "metadata": {},
   "outputs": [],
   "source": [
    "wv = 'PLW'\n",
    "hd_hers = hers_obj.headers[wv]\n",
    "wmap = WCS(hd_hers)\n",
    "mask_hers = np.zeros_like(hers_obj.masks[wv])\n",
    "cms=mask_hers.shape\n",
    "# CONVERT FROM RA/DEC to X/Y\n",
    "ty, tx = wmap.wcs_world2pix(ra_hers, dec_hers, 0)\n",
    "# CHECK FOR SOURCES THAT FALL OUTSIDE MAP\n",
    "ind_keep = np.where((tx >= 0) & (np.round(tx) < cms[0]) & (ty >= 0) & (np.round(ty) < cms[1]))\n",
    "real_x = np.round(tx[ind_keep]).astype(int)\n",
    "real_y = np.round(ty[ind_keep]).astype(int)\n",
    "mask_hers[real_x, real_y] += 1"
   ]
  },
  {
   "cell_type": "code",
   "execution_count": 55,
   "id": "e5e98d62",
   "metadata": {},
   "outputs": [],
   "source": [
    "wv = 'PLW'\n",
    "hd_helms = helms_obj.headers[wv]\n",
    "wmap = WCS(hd_helms)\n",
    "mask_helms = np.zeros_like(helms_obj.masks[wv])\n",
    "cms=mask_helms.shape\n",
    "# CONVERT FROM RA/DEC to X/Y\n",
    "ty, tx = wmap.wcs_world2pix(ra_helms, dec_helms, 0)\n",
    "# CHECK FOR SOURCES THAT FALL OUTSIDE MAP\n",
    "ind_keep = np.where((tx >= 0) & (np.round(tx) < cms[0]) & (ty >= 0) & (np.round(ty) < cms[1]))\n",
    "real_x = np.round(tx[ind_keep]).astype(int)\n",
    "real_y = np.round(ty[ind_keep]).astype(int)\n",
    "mask_helms[real_x, real_y] += 1"
   ]
  },
  {
   "cell_type": "code",
   "execution_count": 59,
   "id": "56b1823a",
   "metadata": {},
   "outputs": [
    {
     "data": {
      "image/png": "[encoded data removed]",
      "text/plain": [
       "<Figure size 640x480 with 1 Axes>"
      ]
     },
     "metadata": {},
     "output_type": "display_data"
    }
   ],
   "source": [
    "plt.imshow(mask_hers);"
   ]
  },
  {
   "cell_type": "code",
   "execution_count": 65,
   "id": "821a7a91",
   "metadata": {},
   "outputs": [
    {
     "data": {
      "image/png": "[encoded data removed]",
      "text/plain": [
       "<Figure size 640x480 with 1 Axes>"
      ]
     },
     "metadata": {},
     "output_type": "display_data"
    }
   ],
   "source": [
    "plt.imshow(footprint_hers);"
   ]
  },
  {
   "cell_type": "code",
   "execution_count": null,
   "id": "b27280d4",
   "metadata": {},
   "outputs": [],
   "source": [
    "np.sum(mask[mask > 0])"
   ]
  },
  {
   "cell_type": "code",
   "execution_count": null,
   "id": "798f593a",
   "metadata": {},
   "outputs": [],
   "source": [
    "np.sum(footprint[footprint > 0])"
   ]
  },
  {
   "cell_type": "code",
   "execution_count": null,
   "id": "bc04815e",
   "metadata": {},
   "outputs": [],
   "source": []
  },
  {
   "cell_type": "code",
   "execution_count": 38,
   "id": "d614c3af",
   "metadata": {},
   "outputs": [],
   "source": [
    "def write_fits(mapin,\n",
    "               headerin,\n",
    "               map_name,\n",
    "               path_map=r'/Users/mviero/Desktop', \n",
    "               prefix=None,\n",
    "               suffix='',\\\n",
    "               overwrite=True, \n",
    "               show=False):\n",
    "    \n",
    "    if show:\n",
    "        plt.imshow(mapin)\n",
    "\n",
    "    if prefix is not None:\n",
    "        name_map = '_'.join(['_'.join([prefix,str(map_name)]),suffix])+'.fits'\n",
    "    else:\n",
    "        name_map = '_'.join([str(map_name),suffix])+'.fits'\n",
    "    print(mapin.shape)\n",
    "    print(headerin)\n",
    "    hdu = fits.PrimaryHDU(mapin, header=headerin)\n",
    "    hdul = fits.HDUList([hdu])\n",
    "    hdul.writeto(os.path.join(path_map, name_map),overwrite=overwrite)\n",
    "    print('{0} written to {1}'.format(name_map,path_map))"
   ]
  },
  {
   "cell_type": "code",
   "execution_count": 57,
   "id": "6adaf3f7",
   "metadata": {},
   "outputs": [],
   "source": [
    "import pdb\n",
    "from reproject import reproject_from_healpix, reproject_to_healpix\n",
    "def write_healpix(mapin,\n",
    "               headerin,\n",
    "               map_name,\n",
    "               projection='galactic',                \n",
    "               path_map=r'/Users/mviero/Desktop', \n",
    "               prefix=None,\n",
    "               suffix='healpix',\n",
    "               overwrite=True):\n",
    "    \n",
    "    whd = WCS(headerin)\n",
    "    array, footprint = reproject_to_healpix((mapin, whd), projection, nside=128)\n",
    "    pdb.set_trace()"
   ]
  },
  {
   "cell_type": "code",
   "execution_count": 58,
   "id": "4e71bac2",
   "metadata": {},
   "outputs": [
    {
     "name": "stdout",
     "output_type": "stream",
     "text": [
      "--Return--\n",
      "None\n",
      "> \u001b[0;32m/var/folders/y6/w9q_b49n5qzbxrbqfjs4qkpm0000gn/T/ipykernel_88734/2712066923.py\u001b[0m(14)\u001b[0;36mwrite_healpix\u001b[0;34m()\u001b[0m\n",
      "\u001b[0;32m     10 \u001b[0;31m               overwrite=True):\n",
      "\u001b[0m\u001b[0;32m     11 \u001b[0;31m\u001b[0;34m\u001b[0m\u001b[0m\n",
      "\u001b[0m\u001b[0;32m     12 \u001b[0;31m    \u001b[0mwhd\u001b[0m \u001b[0;34m=\u001b[0m \u001b[0mWCS\u001b[0m\u001b[0;34m(\u001b[0m\u001b[0mheaderin\u001b[0m\u001b[0;34m)\u001b[0m\u001b[0;34m\u001b[0m\u001b[0;34m\u001b[0m\u001b[0m\n",
      "\u001b[0m\u001b[0;32m     13 \u001b[0;31m    \u001b[0marray\u001b[0m\u001b[0;34m,\u001b[0m \u001b[0mfootprint\u001b[0m \u001b[0;34m=\u001b[0m \u001b[0mreproject_to_healpix\u001b[0m\u001b[0;34m(\u001b[0m\u001b[0;34m(\u001b[0m\u001b[0mmapin\u001b[0m\u001b[0;34m,\u001b[0m \u001b[0mwhd\u001b[0m\u001b[0;34m)\u001b[0m\u001b[0;34m,\u001b[0m \u001b[0mprojection\u001b[0m\u001b[0;34m,\u001b[0m \u001b[0mnside\u001b[0m\u001b[0;34m=\u001b[0m\u001b[0;36m128\u001b[0m\u001b[0;34m)\u001b[0m\u001b[0;34m\u001b[0m\u001b[0;34m\u001b[0m\u001b[0m\n",
      "\u001b[0m\u001b[0;32m---> 14 \u001b[0;31m    \u001b[0mpdb\u001b[0m\u001b[0;34m.\u001b[0m\u001b[0mset_trace\u001b[0m\u001b[0;34m(\u001b[0m\u001b[0;34m)\u001b[0m\u001b[0;34m\u001b[0m\u001b[0;34m\u001b[0m\u001b[0m\n",
      "\u001b[0m\n",
      "ipdb> c\n"
     ]
    }
   ],
   "source": [
    "write_healpix(hers_obj.maps['PLW'], hers_obj.headers['PLW'], 'mapname')"
   ]
  },
  {
   "cell_type": "raw",
   "id": "6347d0d0",
   "metadata": {},
   "source": [
    "write_fits(footprint_hers, hd_hers, map_name='footprint',prefix='hers',suffix=wv)"
   ]
  },
  {
   "cell_type": "code",
   "execution_count": 39,
   "id": "5e5a06b8",
   "metadata": {},
   "outputs": [],
   "source": [
    "def get_footprint(mask, hd, ra, dec):\n",
    "    wmap = WCS(hd)\n",
    "    footprint = np.zeros_like(mask)\n",
    "    cms=footprint.shape\n",
    "    print(cms)\n",
    "    # CONVERT FROM RA/DEC to X/Y\n",
    "    ty, tx = wmap.wcs_world2pix(ra, dec, 0)\n",
    "    # CHECK FOR SOURCES THAT FALL OUTSIDE MAP\n",
    "    ind_keep = np.where((tx >= 0) & (np.round(tx) < cms[0]) & (ty >= 0) & (np.round(ty) < cms[1]))\n",
    "    real_x = np.round(tx[ind_keep]).astype(int)\n",
    "    real_y = np.round(ty[ind_keep]).astype(int)\n",
    "    footprint[real_x, real_y] += 1\n",
    "    return footprint"
   ]
  },
  {
   "cell_type": "code",
   "execution_count": 41,
   "id": "af01f22a",
   "metadata": {},
   "outputs": [
    {
     "name": "stdout",
     "output_type": "stream",
     "text": [
      "(2252, 10989)\n",
      "(2252, 10989)\n",
      "(2252, 10989)\n",
      "XTENSION= 'IMAGE   '           / IMAGE extension                                BITPIX  =                  -64 / number of bits per data pixel                  NAXIS   =                    2 / number of data axes                            NAXIS1  =                10989 / length of data axis 1                          NAXIS2  =                 2252 / length of data axis 2                          PCOUNT  =                    0 / required keyword; must = 0                     GCOUNT  =                    1 / required keyword; must = 1                     WCSAXES =                    2 / Number of coordinate axes                      CRPIX1  =        17546.9613759 / Pixel coordinate of reference point            CRPIX2  =        1098.17606437 / Pixel coordinate of reference point            CDELT1  =           -0.0020625 / [deg] Coordinate increment at reference point  CDELT2  =            0.0020625 / [deg] Coordinate increment at reference point  CUNIT1  = 'deg'                / Units of coordinate increment and value        CUNIT2  = 'deg'                / Units of coordinate increment and value        CTYPE1  = 'RA---CEA'           / Right ascension, cylindrical equal area projectCTYPE2  = 'DEC--CEA'           / Declination, cylindrical equal area projection CRVAL1  =                    0 / [deg] Coordinate value at reference point      CRVAL2  =                    0 / [deg] Coordinate value at reference point      LONPOLE =                    0 / [deg] Native longitude of celestial pole       LATPOLE =                   90 / [deg] Native latitude of celestial pole        RESTFRQ =                   -1 / [Hz] Line rest frequency                       RESTWAV =                   -1 / [Hz] Line rest wavelength                      CNAME1  = 'Right Ascension'    / Axis name for labelling purposes               CNAME2  = 'Declination'        / Axis name for labelling purposes               RADESYS = 'ICRS'               / Equatorial coordinate system                   EQUINOX =                 2000 / [yr] Equinox of equatorial coordinates         DATE-OBS= '2012-07-23T05:23:18.000000' / ISO-8601 observation date              TIMESYS = 'UTC     '           / All dates are in UTC time                      CREATOR = 'SPG v8.3.0'         / Generator of this product                      INSTRUME= 'SPIRE   '           / Instrument attached to this product            OBJECT  = 'LN1-1-1 '           / Target name                                    TELESCOP= 'Herschel Space Observatory' / Name of telescope                      OBSERVER= 'mviero  '           / Observer name                                  DATE    = '2012-10-12T01:31:33' / file creation date (YYYY-MM-DDThh:mm:ss UT)   EXTNAME = 'Image   '           / table name                                     COMMENT                                                                         COMMENT This fits file was generated by SANEPIC version 0.1.exported            COMMENT For more informations about SANEPIC and for SANEPIC updates, please     COMMENT check our dedicated website at http://www.ias.u-psud.fr/sanepic         COMMENT                                                                         CHECKSUM= '3AaJA9XG4AaGA9WG'   / HDU checksum updated 2012-10-12T01:31:34       DATASUM = '540101410'          / data unit checksum updated 2012-10-12T01:31:34 END                                                                                                                                                                                                                                                                                                                                                                                                                                                                                                                                                                                                                                                                                                                                                                                                                                                                                                                                                                                                                                                                                                                                                                                                                                                                                                                                                                                                                                                                                                                                                                                                                                                                                                                                                                                                                                                                                                                                                                                                                                                                                                                                                                                                                                                                                                                                                                                                                                                                                             \n",
      "hers-act_SANEPIC_PSW_20121012_footprint.fits written to /Users/mviero/Desktop\n",
      "(1694, 8244)\n",
      "(1694, 8244)\n",
      "(1694, 8244)\n",
      "XTENSION= 'IMAGE   '           / IMAGE extension                                BITPIX  =                  -64 / number of bits per data pixel                  NAXIS   =                    2 / number of data axes                            NAXIS1  =                 8244 / length of data axis 1                          NAXIS2  =                 1694 / length of data axis 2                          PCOUNT  =                    0 / required keyword; must = 0                     GCOUNT  =                    1 / required keyword; must = 1                     WCSAXES =                    2 / Number of coordinate axes                      CRPIX1  =        13161.2496717 / Pixel coordinate of reference point            CRPIX2  =        826.830336039 / Pixel coordinate of reference point            CDELT1  =             -0.00275 / [deg] Coordinate increment at reference point  CDELT2  =              0.00275 / [deg] Coordinate increment at reference point  CUNIT1  = 'deg'                / Units of coordinate increment and value        CUNIT2  = 'deg'                / Units of coordinate increment and value        CTYPE1  = 'RA---CEA'           / Right ascension, cylindrical equal area projectCTYPE2  = 'DEC--CEA'           / Declination, cylindrical equal area projection CRVAL1  =                    0 / [deg] Coordinate value at reference point      CRVAL2  =                    0 / [deg] Coordinate value at reference point      LONPOLE =                    0 / [deg] Native longitude of celestial pole       LATPOLE =                   90 / [deg] Native latitude of celestial pole        RESTFRQ =                   -1 / [Hz] Line rest frequency                       RESTWAV =                   -1 / [Hz] Line rest wavelength                      CNAME1  = 'Right Ascension'    / Axis name for labelling purposes               CNAME2  = 'Declination'        / Axis name for labelling purposes               RADESYS = 'ICRS'               / Equatorial coordinate system                   EQUINOX =                 2000 / [yr] Equinox of equatorial coordinates         DATE-OBS= '2012-07-23T05:23:18.000000' / ISO-8601 observation date              TIMESYS = 'UTC     '           / All dates are in UTC time                      CREATOR = 'SPG v8.3.0'         / Generator of this product                      INSTRUME= 'SPIRE   '           / Instrument attached to this product            OBJECT  = 'LN1-1-1 '           / Target name                                    TELESCOP= 'Herschel Space Observatory' / Name of telescope                      OBSERVER= 'mviero  '           / Observer name                                  DATE    = '2012-10-12T16:12:02' / file creation date (YYYY-MM-DDThh:mm:ss UT)   EXTNAME = 'Image   '           / table name                                     COMMENT                                                                         COMMENT This fits file was generated by SANEPIC version 0.1.exported            COMMENT For more informations about SANEPIC and for SANEPIC updates, please     COMMENT check our dedicated website at http://www.ias.u-psud.fr/sanepic         COMMENT                                                                         CHECKSUM= 'YHjkZFjkYFjkYFjk'   / HDU checksum updated 2012-10-12T16:12:36       DATASUM = '303413700'          / data unit checksum updated 2012-10-12T16:12:36 END                                                                                                                                                                                                                                                                                                                                                                                                                                                                                                                                                                                                                                                                                                                                                                                                                                                                                                                                                                                                                                                                                                                                                                                                                                                                                                                                                                                                                                                                                                                                                                                                                                                                                                                                                                                                                                                                                                                                                                                                                                                                                                                                                                                                                                                                                                                                                                                                                                                                                             \n",
      "hers-act_SANEPIC_PMW_20121012_footprint.fits written to /Users/mviero/Desktop\n"
     ]
    },
    {
     "name": "stdout",
     "output_type": "stream",
     "text": [
      "(1130, 5497)\n",
      "(1130, 5497)\n",
      "(1130, 5497)\n",
      "XTENSION= 'IMAGE   '           / IMAGE extension                                BITPIX  =                  -64 / number of bits per data pixel                  NAXIS   =                    2 / number of data axes                            NAXIS1  =                 5497 / length of data axis 1                          NAXIS2  =                 1130 / length of data axis 2                          PCOUNT  =                    0 / required keyword; must = 0                     GCOUNT  =                    1 / required keyword; must = 1                     WCSAXES =                    2 / Number of coordinate axes                      CRPIX1  =        8774.69431351 / Pixel coordinate of reference point            CRPIX2  =        551.842636062 / Pixel coordinate of reference point            CDELT1  =            -0.004125 / [deg] Coordinate increment at reference point  CDELT2  =             0.004125 / [deg] Coordinate increment at reference point  CUNIT1  = 'deg'                / Units of coordinate increment and value        CUNIT2  = 'deg'                / Units of coordinate increment and value        CTYPE1  = 'RA---CEA'           / Right ascension, cylindrical equal area projectCTYPE2  = 'DEC--CEA'           / Declination, cylindrical equal area projection CRVAL1  =                    0 / [deg] Coordinate value at reference point      CRVAL2  =                    0 / [deg] Coordinate value at reference point      LONPOLE =                    0 / [deg] Native longitude of celestial pole       LATPOLE =                   90 / [deg] Native latitude of celestial pole        RESTFRQ =                   -1 / [Hz] Line rest frequency                       RESTWAV =                   -1 / [Hz] Line rest wavelength                      CNAME1  = 'Right Ascension'    / Axis name for labelling purposes               CNAME2  = 'Declination'        / Axis name for labelling purposes               RADESYS = 'ICRS'               / Equatorial coordinate system                   EQUINOX =                 2000 / [yr] Equinox of equatorial coordinates         DATE-OBS= '2012-07-23T05:23:18.000000' / ISO-8601 observation date              TIMESYS = 'UTC     '           / All dates are in UTC time                      CREATOR = 'SPG v8.3.0'         / Generator of this product                      INSTRUME= 'SPIRE   '           / Instrument attached to this product            OBJECT  = 'LN1-1-1 '           / Target name                                    TELESCOP= 'Herschel Space Observatory' / Name of telescope                      OBSERVER= 'mviero  '           / Observer name                                  DATE    = '2012-10-12T17:58:22' / file creation date (YYYY-MM-DDThh:mm:ss UT)   EXTNAME = 'Image   '           / table name                                     COMMENT                                                                         COMMENT This fits file was generated by SANEPIC version 0.1.exported            COMMENT For more informations about SANEPIC and for SANEPIC updates, please     COMMENT check our dedicated website at http://www.ias.u-psud.fr/sanepic         COMMENT                                                                         CHECKSUM= 'ZJgja9ZgTGfgZ9Zg'   / HDU checksum updated 2012-10-12T17:58:22       DATASUM = '456758453'          / data unit checksum updated 2012-10-12T17:58:22 END                                                                                                                                                                                                                                                                                                                                                                                                                                                                                                                                                                                                                                                                                                                                                                                                                                                                                                                                                                                                                                                                                                                                                                                                                                                                                                                                                                                                                                                                                                                                                                                                                                                                                                                                                                                                                                                                                                                                                                                                                                                                                                                                                                                                                                                                                                                                                                                                                                                                                             \n",
      "hers-act_SANEPIC_PLW_20121012_footprint.fits written to /Users/mviero/Desktop\n"
     ]
    }
   ],
   "source": [
    "wvs=['PSW','PMW','PLW']\n",
    "for wv in wvs:\n",
    "    hd_wv = hers_obj.headers[wv]\n",
    "    ra = df_hers_foot['ra'].values\n",
    "    dec = df_hers_foot['dec'].values\n",
    "    mask = np.zeros_like(hers_obj.maps[wv])\n",
    "    print(np.shape(mask))\n",
    "    wmap = WCS(hd_wv)\n",
    "    footprint_wv = get_footprint(mask, hd_wv, ra, dec)\n",
    "    write_fits(footprint_wv, hd_wv, map_name=hers_maps[wv],suffix='footprint')"
   ]
  },
  {
   "cell_type": "code",
   "execution_count": 29,
   "id": "c662ad6f",
   "metadata": {},
   "outputs": [
    {
     "data": {
      "text/plain": [
       "XTENSION= 'IMAGE   '           / IMAGE extension                                \n",
       "BITPIX  =                  -64 / number of bits per data pixel                  \n",
       "NAXIS   =                    2 / number of data axes                            \n",
       "NAXIS1  =                10989 / length of data axis 1                          \n",
       "NAXIS2  =                 2252 / length of data axis 2                          \n",
       "PCOUNT  =                    0 / required keyword; must = 0                     \n",
       "GCOUNT  =                    1 / required keyword; must = 1                     \n",
       "WCSAXES =                    2 / Number of coordinate axes                      \n",
       "CRPIX1  =        17546.9613759 / Pixel coordinate of reference point            \n",
       "CRPIX2  =        1098.17606437 / Pixel coordinate of reference point            \n",
       "CDELT1  =           -0.0020625 / [deg] Coordinate increment at reference point  \n",
       "CDELT2  =            0.0020625 / [deg] Coordinate increment at reference point  \n",
       "CUNIT1  = 'deg'                / Units of coordinate increment and value        \n",
       "CUNIT2  = 'deg'                / Units of coordinate increment and value        \n",
       "CTYPE1  = 'RA---CEA'           / Right ascension, cylindrical equal area project\n",
       "CTYPE2  = 'DEC--CEA'           / Declination, cylindrical equal area projection \n",
       "CRVAL1  =                    0 / [deg] Coordinate value at reference point      \n",
       "CRVAL2  =                    0 / [deg] Coordinate value at reference point      \n",
       "LONPOLE =                    0 / [deg] Native longitude of celestial pole       \n",
       "LATPOLE =                   90 / [deg] Native latitude of celestial pole        \n",
       "RESTFRQ =                   -1 / [Hz] Line rest frequency                       \n",
       "RESTWAV =                   -1 / [Hz] Line rest wavelength                      \n",
       "CNAME1  = 'Right Ascension'    / Axis name for labelling purposes               \n",
       "CNAME2  = 'Declination'        / Axis name for labelling purposes               \n",
       "RADESYS = 'ICRS'               / Equatorial coordinate system                   \n",
       "EQUINOX =                 2000 / [yr] Equinox of equatorial coordinates         \n",
       "DATE-OBS= '2012-07-23T05:23:18.000000' / ISO-8601 observation date              \n",
       "TIMESYS = 'UTC     '           / All dates are in UTC time                      \n",
       "CREATOR = 'SPG v8.3.0'         / Generator of this product                      \n",
       "INSTRUME= 'SPIRE   '           / Instrument attached to this product            \n",
       "OBJECT  = 'LN1-1-1 '           / Target name                                    \n",
       "TELESCOP= 'Herschel Space Observatory' / Name of telescope                      \n",
       "OBSERVER= 'mviero  '           / Observer name                                  \n",
       "DATE    = '2012-10-12T01:31:33' / file creation date (YYYY-MM-DDThh:mm:ss UT)   \n",
       "EXTNAME = 'Image   '           / table name                                     \n",
       "COMMENT                                                                         \n",
       "COMMENT This fits file was generated by SANEPIC version 0.1.exported            \n",
       "COMMENT For more informations about SANEPIC and for SANEPIC updates, please     \n",
       "COMMENT check our dedicated website at http://www.ias.u-psud.fr/sanepic         \n",
       "COMMENT                                                                         \n",
       "CHECKSUM= '3AaJA9XG4AaGA9WG'   / HDU checksum updated 2012-10-12T01:31:34       \n",
       "DATASUM = '540101410'          / data unit checksum updated 2012-10-12T01:31:34 "
      ]
     },
     "execution_count": 29,
     "metadata": {},
     "output_type": "execute_result"
    }
   ],
   "source": [
    "hers_obj.headers['PSW']"
   ]
  },
  {
   "cell_type": "code",
   "execution_count": 30,
   "id": "04225cda",
   "metadata": {},
   "outputs": [
    {
     "data": {
      "text/plain": [
       "XTENSION= 'IMAGE   '           / IMAGE extension                                \n",
       "BITPIX  =                  -64 / number of bits per data pixel                  \n",
       "NAXIS   =                    2 / number of data axes                            \n",
       "NAXIS1  =                 5497 / length of data axis 1                          \n",
       "NAXIS2  =                 1130 / length of data axis 2                          \n",
       "PCOUNT  =                    0 / required keyword; must = 0                     \n",
       "GCOUNT  =                    1 / required keyword; must = 1                     \n",
       "WCSAXES =                    2 / Number of coordinate axes                      \n",
       "CRPIX1  =        8774.69431351 / Pixel coordinate of reference point            \n",
       "CRPIX2  =        551.842636062 / Pixel coordinate of reference point            \n",
       "CDELT1  =            -0.004125 / [deg] Coordinate increment at reference point  \n",
       "CDELT2  =             0.004125 / [deg] Coordinate increment at reference point  \n",
       "CUNIT1  = 'deg'                / Units of coordinate increment and value        \n",
       "CUNIT2  = 'deg'                / Units of coordinate increment and value        \n",
       "CTYPE1  = 'RA---CEA'           / Right ascension, cylindrical equal area project\n",
       "CTYPE2  = 'DEC--CEA'           / Declination, cylindrical equal area projection \n",
       "CRVAL1  =                    0 / [deg] Coordinate value at reference point      \n",
       "CRVAL2  =                    0 / [deg] Coordinate value at reference point      \n",
       "LONPOLE =                    0 / [deg] Native longitude of celestial pole       \n",
       "LATPOLE =                   90 / [deg] Native latitude of celestial pole        \n",
       "RESTFRQ =                   -1 / [Hz] Line rest frequency                       \n",
       "RESTWAV =                   -1 / [Hz] Line rest wavelength                      \n",
       "CNAME1  = 'Right Ascension'    / Axis name for labelling purposes               \n",
       "CNAME2  = 'Declination'        / Axis name for labelling purposes               \n",
       "RADESYS = 'ICRS'               / Equatorial coordinate system                   \n",
       "EQUINOX =                 2000 / [yr] Equinox of equatorial coordinates         \n",
       "DATE-OBS= '2012-07-23T05:23:18.000000' / ISO-8601 observation date              \n",
       "TIMESYS = 'UTC     '           / All dates are in UTC time                      \n",
       "CREATOR = 'SPG v8.3.0'         / Generator of this product                      \n",
       "INSTRUME= 'SPIRE   '           / Instrument attached to this product            \n",
       "OBJECT  = 'LN1-1-1 '           / Target name                                    \n",
       "TELESCOP= 'Herschel Space Observatory' / Name of telescope                      \n",
       "OBSERVER= 'mviero  '           / Observer name                                  \n",
       "DATE    = '2012-10-12T17:58:22' / file creation date (YYYY-MM-DDThh:mm:ss UT)   \n",
       "EXTNAME = 'Image   '           / table name                                     \n",
       "COMMENT                                                                         \n",
       "COMMENT This fits file was generated by SANEPIC version 0.1.exported            \n",
       "COMMENT For more informations about SANEPIC and for SANEPIC updates, please     \n",
       "COMMENT check our dedicated website at http://www.ias.u-psud.fr/sanepic         \n",
       "COMMENT                                                                         \n",
       "CHECKSUM= 'ZJgja9ZgTGfgZ9Zg'   / HDU checksum updated 2012-10-12T17:58:22       \n",
       "DATASUM = '456758453'          / data unit checksum updated 2012-10-12T17:58:22 "
      ]
     },
     "execution_count": 30,
     "metadata": {},
     "output_type": "execute_result"
    }
   ],
   "source": [
    "hers_obj.headers['PLW']"
   ]
  },
  {
   "cell_type": "code",
   "execution_count": null,
   "id": "60a1c097",
   "metadata": {},
   "outputs": [],
   "source": []
  },
  {
   "cell_type": "code",
   "execution_count": 43,
   "id": "16159611",
   "metadata": {},
   "outputs": [],
   "source": [
    "import reproject"
   ]
  },
  {
   "cell_type": "code",
   "execution_count": null,
   "id": "335e6391",
   "metadata": {},
   "outputs": [],
   "source": []
  }
 ],
 "metadata": {
  "kernelspec": {
   "display_name": "Python 3 (ipykernel)",
   "language": "python",
   "name": "python3"
  },
  "language_info": {
   "codemirror_mode": {
    "name": "ipython",
    "version": 3
   },
   "file_extension": ".py",
   "mimetype": "text/x-python",
   "name": "python",
   "nbconvert_exporter": "python",
   "pygments_lexer": "ipython3",
   "version": "3.10.9"
  }
 },
 "nbformat": 4,
 "nbformat_minor": 5
}
