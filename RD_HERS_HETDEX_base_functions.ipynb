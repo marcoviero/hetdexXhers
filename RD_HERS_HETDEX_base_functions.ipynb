{
 "cells": [
  {
   "cell_type": "code",
   "execution_count": 1,
   "id": "86e3a624",
   "metadata": {},
   "outputs": [
    {
     "data": {
      "text/html": [
       "<style>.container { width:98% !important; }</style>"
      ],
      "text/plain": [
       "<IPython.core.display.HTML object>"
      ]
     },
     "metadata": {},
     "output_type": "display_data"
    }
   ],
   "source": [
    "from IPython.display import display, HTML\n",
    "display(HTML(\"<style>.container { width:98% !important; }</style>\"))"
   ]
  },
  {
   "cell_type": "code",
   "execution_count": 2,
   "id": "5339016d",
   "metadata": {},
   "outputs": [],
   "source": [
    "import pdb\n",
    "import sys\n",
    "import pickle\n",
    "import numpy as np\n",
    "import scipy as sc\n",
    "from scipy.io import readsav\n",
    "from astropy.io import fits\n",
    "import matplotlib.pyplot as plt\n",
    "\n",
    "dtor=0.017453292\n",
    "sky_sqr_deg = 41253 \n",
    "\n",
    "import warnings\n",
    "warnings.filterwarnings(\"ignore\")"
   ]
  },
  {
   "cell_type": "code",
   "execution_count": 3,
   "id": "04624a76",
   "metadata": {},
   "outputs": [],
   "source": [
    "hipe_8_11_calibration_correction=np.array([1.0253,1.0250,1.0125])\n",
    "spire_color_correction=np.array([1.0213158,1.0100951,1.0252420])\n",
    "spire_solid_angle=np.array([459.22,796.98,1649.72])/3600.**2.*(np.pi/180.)**2."
   ]
  },
  {
   "cell_type": "code",
   "execution_count": 4,
   "id": "3ac65370",
   "metadata": {},
   "outputs": [],
   "source": [
    "def ell_to_k(ell):\n",
    "    #ell = 2pi k_theta\n",
    "    k_theta = ell/2/np.pi * (np.pi/180/60)\n",
    "    return k_theta"
   ]
  },
  {
   "cell_type": "code",
   "execution_count": 5,
   "id": "1594331a",
   "metadata": {},
   "outputs": [],
   "source": [
    "def k_to_ell(k):\n",
    "    #ell = 2pi k_theta\n",
    "    ell = k * 2 * np.pi / (np.pi/180/60)\n",
    "    return ell"
   ]
  },
  {
   "cell_type": "code",
   "execution_count": 6,
   "id": "370c6eb8",
   "metadata": {},
   "outputs": [],
   "source": [
    "def beam_solid_angle_from_fwhm(fwhm):\n",
    "    sig = (fwhm/3600 * np.pi/180)/2.355\n",
    "    omega_beam=2*np.pi*sig**2\n",
    "    return omega_beam"
   ]
  },
  {
   "cell_type": "code",
   "execution_count": 7,
   "id": "5dc7b501",
   "metadata": {},
   "outputs": [],
   "source": [
    "def get_map_native_deltal(mapin, pixsize_arcsec):\n",
    "    dims = np.shape(mapin)\n",
    "    eff_side=np.sqrt(np.product(dims))\n",
    "    eff_a=eff_side*(pixsize_arcsec/3600.)*dtor\n",
    "    deltal=2.*np.pi/eff_a\n",
    "    return deltal"
   ]
  },
  {
   "cell_type": "code",
   "execution_count": 8,
   "id": "75343ef4",
   "metadata": {},
   "outputs": [],
   "source": [
    "name='PSW'\n",
    "write_maps=False\n",
    "deltal=120\n",
    "width=0.95"
   ]
  },
  {
   "cell_type": "code",
   "execution_count": 9,
   "id": "22d8e436",
   "metadata": {},
   "outputs": [],
   "source": [
    "path_hetdex_maps = os.path.join(os.environ['MAPSPATH'],'cutouts','layers')\n",
    "layers_directory = 'hetdex_hers_layers_12arcsec_pix_new'\n",
    "layers_directory = 'hetdex_hers_layers_12arcsec_pix_4x4'\n",
    "layers_directory = 'hetdex_hers_layers_cea_3x3'\n",
    "layers_directory = 'hetdex_hers_layers_cea_3x2'\n",
    "path_hetdex_layers = os.path.join(path_hetdex_maps,layers_directory)\n",
    "\n",
    "map_bins=np.unique(['__'.join(i.split('__')[:-1]) for i in os.listdir(path_hetdex_layers)])\n",
    "map_key_dict={'PSW':'__fwhm_17p6','PMW':'__fwhm_23p9','PLW':'__fwhm_35p2'}\n",
    "map_psf = {'PSW':17.6,'PMW':23.9,'PLW':35.2}"
   ]
  },
  {
   "cell_type": "code",
   "execution_count": 10,
   "id": "c71606cc",
   "metadata": {},
   "outputs": [],
   "source": [
    "map_bins = [i for i in map_bins if i != \"\"]"
   ]
  },
  {
   "cell_type": "code",
   "execution_count": null,
   "id": "a1450238",
   "metadata": {},
   "outputs": [],
   "source": [
    "path_hers_maps = os.path.join(os.environ['MAPSPATH'],'Herschel','HerS')"
   ]
  },
  {
   "cell_type": "code",
   "execution_count": null,
   "id": "942d4dc4",
   "metadata": {},
   "outputs": [],
   "source": [
    "hers_maps = {'PSW':'hers-act_SANEPIC_PSW_20121012',\n",
    "             'PMW':'hers-act_SANEPIC_PMW_20121012',\n",
    "             'PLW':'hers-act_SANEPIC_PLW_20121012'}"
   ]
  },
  {
   "cell_type": "raw",
   "id": "860e08ad",
   "metadata": {},
   "source": [
    "hers_maps = {'PSW':'hers_PSW_tan_spirepix_sanePic_20130321',\n",
    "             'PMW':'hers_PMW_tan_spirepix_sanePic_20130321',\n",
    "             'PLW':'hers_PLW_tan_spirepix_sanePic_20130321'}"
   ]
  },
  {
   "cell_type": "raw",
   "id": "2b93a9a9",
   "metadata": {},
   "source": [
    "hers_maps = {'PSW':'hers_itermap_12.0_arcsec_pixels_PSW',\n",
    "             'PMW':'hers_itermap_12.0_arcsec_pixels_PMW',\n",
    "             'PLW':'hers_itermap_12.0_arcsec_pixels_PLW'}"
   ]
  },
  {
   "cell_type": "raw",
   "id": "64cb75e8",
   "metadata": {},
   "source": [
    "hers_maps = {'combined':\n",
    "             {'PSW':'hers_itermap_12.0_arcsec_pixels_PSW',\n",
    "              'PMW':'hers_itermap_12.0_arcsec_pixels_PMW',\n",
    "              'PLW':'hers_itermap_12.0_arcsec_pixels_PLW'\n",
    "             }, \n",
    "             'jk1':\n",
    "             {'PSW':'hers_itermap_12.0_arcsec_pixels_jk_ang1_PSW',\n",
    "              'PMW':'hers_itermap_12.0_arcsec_pixels_jk_ang1_PMW',\n",
    "              'PLW':'hers_itermap_12.0_arcsec_pixels_jk_ang1_PLW'\n",
    "             }, \n",
    "             'jk2':\n",
    "             {'PSW':'hers_itermap_12.0_arcsec_pixels_jk_ang1_PSW',\n",
    "              'PMW':'hers_itermap_12.0_arcsec_pixels_jk_ang1_PMW',\n",
    "              'PLW':'hers_itermap_12.0_arcsec_pixels_jk_ang1_PLW'\n",
    "             }, \n",
    "            }"
   ]
  },
  {
   "cell_type": "code",
   "execution_count": null,
   "id": "972205c5",
   "metadata": {},
   "outputs": [],
   "source": [
    "class CrossMapObject():\n",
    "    maps={}\n",
    "    masks={}\n",
    "    headers={}\n",
    "    pix_sizes_arcsec={}\n",
    "    def __init__(self, base_path, jack_dict, crop=False, l20=None, hanning=False, kaiser=False):\n",
    "        for jack, map_dict in jack_dict.items():\n",
    "            self.maps[jack]={}\n",
    "            self.masks[jack]={}\n",
    "            self.headers[jack]={}\n",
    "            self.pix_sizes_arcsec[jack]={}\n",
    "            for key, map_name in map_dict.items():\n",
    "                map_path = os.path.join(base_path, map_name+'.fits')\n",
    "                try:\n",
    "                    map_in, hd_in = fits.getdata(map_path, 0, header=True)\n",
    "                except:\n",
    "                    map_in, hd_in = fits.getdata(map_path, 1, header=True)\n",
    "                try:\n",
    "                    pix_arcsec = hd_in['CDELT2']*3600\n",
    "                except:\n",
    "                    pix_arcsec = hd_in['CD2_2']*3600\n",
    "                    \n",
    "                if crop:\n",
    "                    cx=crop\n",
    "                    cy=crop\n",
    "                    dims0 = np.shape(map_in)\n",
    "                    map_in=map_in[dims0[0]//2-cx//2:dims0[0]//2+cx//2,dims0[1]//2-cy//2:dims0[1]//2+cy//2]\n",
    "                    \n",
    "                dims = np.shape(map_in)\n",
    "                self.headers[jack][key] = hd_in\n",
    "                self.pix_sizes_arcsec[jack][key] = pix_arcsec\n",
    "                \n",
    "                mask_in=np.ones_like(map_in)\n",
    "                mask_in[np.isnan(map_in)]=0\n",
    "                # Hanning Mask\n",
    "                if hanning:\n",
    "                    window2d = np.sqrt(np.outer(np.abs(np.hanning(dims[0])),np.abs(np.hanning(dims[1]))))\n",
    "                    mask_in*=window2d\n",
    "                # Kaiser Mask (beta=kaiser) beta=4 recommended\n",
    "                if kaiser:\n",
    "                    window2d = np.sqrt(np.outer(np.abs(np.kaiser(dims[0],kaiser)),np.abs(np.kaiser(dims[1],kaiser))))\n",
    "                    mask_in*=window2d\n",
    "\n",
    "                map_in[np.isnan(map_in)]=0\n",
    "                if l20:\n",
    "                    self.maps[jack][key] = np.zeros([l20,l20])\n",
    "                    self.maps[jack][key][:dims[0],:dims[1]] = map_in\n",
    "                    self.masks[jack][key] = np.zeros([l20,l20])\n",
    "                    self.masks[jack][key][:dims[0],:dims[1]] = mask_in\n",
    "                else:\n",
    "                    self.maps[jack][key] = map_in\n",
    "                    self.masks[jack][key] = mask_in"
   ]
  },
  {
   "cell_type": "code",
   "execution_count": null,
   "id": "0a0d123c",
   "metadata": {},
   "outputs": [],
   "source": [
    "class MapObject():\n",
    "    maps={}\n",
    "    masks={}\n",
    "    headers={}\n",
    "    pix_sizes_arcsec={}\n",
    "    def __init__(self, base_path, map_dict, crop=False, l20=None, hanning=False):\n",
    "        \n",
    "        for key, map_name in map_dict.items():\n",
    "            map_path = os.path.join(base_path, map_name+'.fits')\n",
    "            try:\n",
    "                map_in, hd_in = fits.getdata(map_path, 0, header=True)\n",
    "            except:\n",
    "                map_in, hd_in = fits.getdata(map_path, 1, header=True)\n",
    "            try:\n",
    "                pix_arcsec = hd_in['CDELT2']*3600\n",
    "            except:\n",
    "                pix_arcsec = hd_in['CD2_2']*3600\n",
    "            \n",
    "            if crop:\n",
    "                cx=crop\n",
    "                cy=crop\n",
    "                dims0 = np.shape(map_in)\n",
    "                map_in=map_in[dims0[0]//2-cx//2:dims0[0]//2+cx//2,dims0[1]//2-cy//2:dims0[1]//2+cy//2]\n",
    "                \n",
    "            dims = np.shape(map_in)\n",
    "            self.headers[key] = hd_in\n",
    "            self.pix_sizes_arcsec[key] = pix_arcsec\n",
    "            \n",
    "            # Hanning Mask\n",
    "            window2d = np.sqrt(np.outer(np.abs(np.hanning(dims[0])),np.abs(np.hanning(dims[1]))))\n",
    "            mask_in=np.ones_like(map_in)\n",
    "            mask_in[np.isnan(map_in)]=0\n",
    "            if hanning:\n",
    "                mask_in*=window2d\n",
    "            map_in[np.isnan(map_in)]=0\n",
    "            \n",
    "            if l20:\n",
    "                self.maps[key] = np.zeros([l20,l20])\n",
    "                self.maps[key][:dims[0],:dims[1]] = map_in\n",
    "                self.masks[key] = np.zeros([l20,l20])\n",
    "                self.masks[key][:dims[0],:dims[1]] = mask_in\n",
    "            else:\n",
    "                self.maps[key] = map_in\n",
    "                self.masks[key] = mask_in"
   ]
  },
  {
   "cell_type": "code",
   "execution_count": null,
   "id": "75fa2075",
   "metadata": {},
   "outputs": [],
   "source": [
    "def get_psf_correction(ell, fwhm_arcsec, fwhm_arcsec2=None):\n",
    "    sigma_radian1 = (fwhm_arcsec / 3600 * np.pi / 180) / np.sqrt(8 * np.log10(2))\n",
    "    sigma_ell1 = 1/sigma_radian1\n",
    "    Bl1 = np.exp(-0.5 *(ell/sigma_ell1)**2)\n",
    "    if fwhm_arcsec2:\n",
    "        sigma_radian2 = (fwhm_arcsec2 / 3600 * np.pi / 180) / np.sqrt(8 * np.log10(2))\n",
    "        sigma_ell2 = 1/sigma_radian2\n",
    "        Bl2 = np.exp(-0.5 *(ell/sigma_ell2)**2)\n",
    "        Bl = np.sqrt(Bl1 * Bl2)\n",
    "        return Bl\n",
    "    else:\n",
    "        return Bl1"
   ]
  },
  {
   "cell_type": "code",
   "execution_count": null,
   "id": "da2b898a",
   "metadata": {},
   "outputs": [],
   "source": [
    "def get_twod_fft(map_one, map_two=None, pix_arcsec=False):\n",
    "    dims = np.shape(map_one)\n",
    "    if pix_arcsec:\n",
    "        fac = (pix_arcsec/3600 * (np.pi/180))**2 * (dims[0]*dims[1])\n",
    "    else:\n",
    "        fac = 1\n",
    "        \n",
    "    if map_two is None:\n",
    "        return np.real(np.fft.fft2(map_one)*np.conj(np.fft.fft2(map_one))) * fac\n",
    "    else:\n",
    "        return np.real(np.fft.fft2(map_one)*np.conj(np.fft.fft2(map_two))) * fac        "
   ]
  },
  {
   "cell_type": "code",
   "execution_count": null,
   "id": "ddcb982b",
   "metadata": {},
   "outputs": [],
   "source": [
    "def get_twod_fft(map_one, map_two=None, pix_arcsec=False):\n",
    "    if map_two is None:\n",
    "        map_two = map_one.copy()\n",
    "    dimx, dimy = map_one.shape\n",
    "    if pix_arcsec:\n",
    "        sterad_per_pix = (pix_arcsec / 3600 / 180 * np.pi) ** 2\n",
    "        V = dimx * dimy * sterad_per_pix\n",
    "    else:\n",
    "        sterad_per_pix = 1\n",
    "        V = 1\n",
    "\n",
    "    ffta = np.fft.fftn(map_one * sterad_per_pix)\n",
    "    fftb = np.fft.fftn(map_two * sterad_per_pix)\n",
    "    ps2d = np.real(ffta * np.conj(fftb)) / V\n",
    "    ps2d = np.fft.ifftshift(ps2d)\n",
    "    return ps2d    "
   ]
  },
  {
   "cell_type": "code",
   "execution_count": null,
   "id": "e8635ca8",
   "metadata": {},
   "outputs": [],
   "source": [
    "def get_twod_ifft(map_one, map_two=None, pix_arcsec=False):\n",
    "    dims = np.shape(map_one)\n",
    "    if pix_arcsec:\n",
    "        fac = (pix_arcsec/3600 * (np.pi/180))**2 * (dims[0]*dims[1])\n",
    "    else:\n",
    "        fac = 1\n",
    "        \n",
    "    if map_two is None:\n",
    "        return np.real(np.fft.ifft2(map_one)*np.conj(np.fft.ifft2(map_one))) * fac\n",
    "    else:\n",
    "        return np.real(np.fft.ifft2(map_one)*np.conj(np.fft.ifft2(map_two))) * fac        "
   ]
  },
  {
   "cell_type": "code",
   "execution_count": null,
   "id": "14511caa",
   "metadata": {},
   "outputs": [],
   "source": [
    "def get_twod_ifft(map_one, map_two=None, pix_arcsec=False):\n",
    "    if map_two is None:\n",
    "        map_two = map_one.copy()\n",
    "    dimx, dimy = map_one.shape\n",
    "    if pix_arcsec:\n",
    "        sterad_per_pix = (pix_arcsec / 3600 / 180 * np.pi) ** 2\n",
    "        V = dimx * dimy * sterad_per_pix\n",
    "    else:\n",
    "        sterad_per_pix = 1\n",
    "        V = 1\n",
    "\n",
    "    ffta = np.fft.fftn(map_one * sterad_per_pix)\n",
    "    fftb = np.fft.fftn(map_two * sterad_per_pix)\n",
    "    ps2d = np.real(ffta * np.conj(fftb)) / V\n",
    "    ps2d = np.fft.ifftshift(ps2d)\n",
    "    return ps2d    "
   ]
  },
  {
   "cell_type": "code",
   "execution_count": null,
   "id": "665f0b71",
   "metadata": {},
   "outputs": [],
   "source": [
    "def get_k_from_map(mapin, pixsize_arcsec):\n",
    "    dims=np.shape(mapin)\n",
    "    return get_kmap_idl(dims, pixsize_arcsec)"
   ]
  },
  {
   "cell_type": "raw",
   "id": "e06239bd",
   "metadata": {},
   "source": [
    "def get_kmap(dims, pixsize_arcsec):\n",
    "\n",
    "    kx=np.arange(dims[0]//2+1)/((pixsize_arcsec*dims[0]*np.pi/10800./60.))*2.*np.pi\n",
    "    kx=np.concatenate((kx,-kx[1:((1+dims[0])//2)][::-1]))\n",
    "\n",
    "    ky=np.arange(dims[1]//2+1)/((pixsize_arcsec*dims[1]*np.pi/10800./60.))*2.*np.pi\n",
    "    ky=np.concatenate((ky,-ky[1:((1+dims[1])//2)][::-1]))\n",
    "    \n",
    "    lx=len(kx)\n",
    "    ly=len(ky)\n",
    "    kx=(np.ones((ly,lx))*kx)\n",
    "    ky=(np.ones((lx,ly))*ky).T\n",
    "    k=np.sqrt(kx**2+ky**2)\n",
    "    return k.T"
   ]
  },
  {
   "cell_type": "code",
   "execution_count": null,
   "id": "c3f43218",
   "metadata": {},
   "outputs": [],
   "source": [
    "def get_kmap_idl(dims, pixsize_arcsec):\n",
    "\n",
    "    kx = np.arange(dims[0] // 2 + 1) / ((pixsize_arcsec * dims[0] * np.pi / 10800. / 60.)) * 2. * np.pi\n",
    "    kx = np.concatenate((kx, -kx[1:((1 + dims[0]) // 2)][::-1]))\n",
    "\n",
    "    ky = np.arange(dims[1] // 2 + 1) / ((pixsize_arcsec * dims[1] * np.pi / 10800. / 60.)) * 2. * np.pi\n",
    "    ky = np.concatenate((ky, -ky[1:((1 + dims[1]) // 2)][::-1]))\n",
    "\n",
    "    lx = len(kx)\n",
    "    ly = len(ky)\n",
    "    kx = (np.ones((ly, lx)) * kx)\n",
    "    ky = (np.ones((lx, ly)) * ky).T\n",
    "    k = np.sqrt(kx ** 2 + ky ** 2)\n",
    "    return k.T"
   ]
  },
  {
   "cell_type": "code",
   "execution_count": null,
   "id": "95cdfe65",
   "metadata": {},
   "outputs": [],
   "source": [
    "def get_kmap(dims, pixsize_arcsec):\n",
    "    lx = np.fft.fftfreq(dims[0]) * 2\n",
    "    ly = np.fft.fftfreq(dims[1]) * 2\n",
    "    lx = np.fft.ifftshift(lx) * (180 * 3600. / pixsize_arcsec)\n",
    "    ly = np.fft.ifftshift(ly) * (180 * 3600. / pixsize_arcsec)\n",
    "    ly, lx = np.meshgrid(ly, lx)\n",
    "    l2d = np.sqrt(lx ** 2 + ly ** 2)\n",
    "    return l2d"
   ]
  },
  {
   "cell_type": "code",
   "execution_count": null,
   "id": "753301b4",
   "metadata": {},
   "outputs": [],
   "source": [
    "def get_ell_bins(mapin, pix_arcsec, deltal=None, width=0, lmin=0, k_theta=False):\n",
    "    \n",
    "    if not deltal:\n",
    "        shape_mapin = np.shape(mapin)\n",
    "        xx=shape_mapin[0]\n",
    "        yy=shape_mapin[1]\n",
    "        eff_side=np.sqrt(xx*yy)\n",
    "        eff_side= yy\n",
    "        print('sqrt(xx*yy) = {}, xx={}, yy={}'.format(np.sqrt(xx*yy),xx,yy))\n",
    "        eff_a=eff_side*(pix_arcsec/3600.)*dtor\n",
    "        deltal=2.*np.pi/eff_a\n",
    "        print('deltal is {}'.format(deltal))\n",
    "        \n",
    "    if not width:\n",
    "        dims=np.shape(mapin)\n",
    "        kmap = get_kmap(dims, pix_arcsec)\n",
    "        nk = int(np.floor(np.max(kmap)/deltal))\n",
    "        ell = np.arange(nk)*deltal + deltal/2 + lmin\n",
    "    else:\n",
    "        ell = linloggen(deltal,width)\n",
    "        \n",
    "    k_theta_log = ell_to_k(ell)\n",
    "    if k_theta:\n",
    "        return k_theta_log\n",
    "    else:\n",
    "        return ell"
   ]
  },
  {
   "cell_type": "code",
   "execution_count": null,
   "id": "74dc509e",
   "metadata": {},
   "outputs": [],
   "source": [
    "def get_mc_mkk(mask_one, mask_two, pix_arcsec, deltal=None, width=None, nomask=False):\n",
    "    shape_map = np.shape(mask_one)\n",
    "    k_map=get_k_from_map(mask_one, pix_arcsec)\n",
    "    ell_bins = get_ell_bins(mask_one, pix_arcsec, deltal=deltal, width=width)\n",
    "    npk = len(ell_bins[:-1])\n",
    "    pk = np.zeros([npk,npk])\n",
    "    ell = np.zeros_like(pk)\n",
    "    for iell in range(npk):\n",
    "        idx_ring = (k_map >= ell_bins[iell]) & (k_map < ell_bins[iell+1])\n",
    "        idx_not_ring = (k_map < ell_bins[iell]) | (k_map >= ell_bins[iell+1])\n",
    "        imap_ring = np.ones_like(mask_one)*np.random.normal(size=shape_map)\n",
    "        imap_ring[idx_not_ring]=0\n",
    "        \n",
    "        imode_map = (np.real(np.fft.ifft2(imap_ring))+np.imag(np.fft.ifft2(imap_ring)))\n",
    "        if nomask:\n",
    "            imask_mkk = get_twod_fft(imode_map, map_two=None, pix_arcsec=None)\n",
    "        else:\n",
    "            #imask_mkk = get_twod_fft(imode_map * mask_one, map_two=imode_map * mask_two, pix_arcsec=pix_arcsec)\n",
    "            imask_mkk = get_twod_fft(imode_map * mask_one, map_two=imode_map * mask_two, pix_arcsec=None)\n",
    "        ipk_mask, ipk_ell = bin_in_rings(imask_mkk, ell_bins, k_map)\n",
    "        pk[iell] = ipk_mask\n",
    "        ell[iell] = np.mean(k_map[idx_ring])\n",
    "    return ell_bins, pk"
   ]
  },
  {
   "cell_type": "code",
   "execution_count": null,
   "id": "8f7476f3",
   "metadata": {},
   "outputs": [],
   "source": [
    "def shift_twod(seq, x, y):\n",
    "    return np.roll(np.roll(seq, int(y), axis = 1), int(x), axis = 0)"
   ]
  },
  {
   "cell_type": "code",
   "execution_count": null,
   "id": "640bd350",
   "metadata": {},
   "outputs": [],
   "source": [
    "def linloggen(deltal, width, minval=None, maxval=None, ltrans=None, verbose=False):\n",
    "\n",
    "    if not minval:\n",
    "        minval=deltal/2.\n",
    "    if not maxval:\n",
    "        maxval=k_to_ell(4.)\n",
    "    if verbose:\n",
    "        print('minval={0:0.1f}'.format(minval))\n",
    "        print('maxval={0:0.1f}'.format(maxval))\n",
    "    nlin=int(np.floor(1./width))\n",
    "    if verbose:\n",
    "        print('nlin={0:0.1f}'.format(nlin))\n",
    "    ltrans=nlin*deltal+minval\n",
    "    if verbose:\n",
    "        print('ltrans={0:0.1f}'.format(ltrans))\n",
    "        \n",
    "    npoints= 2*np.log10(maxval/ltrans)/width\n",
    "    if verbose:\n",
    "        print('npoints={0:0.3f}'.format(npoints))\n",
    "\n",
    "    points = np.arange(np.floor(npoints))/(npoints)\n",
    "    if verbose:\n",
    "        print('len(points)={0:0.3f}'.format(len(points)))\n",
    "\n",
    "    n=int(np.floor(npoints+nlin))\n",
    "    if verbose:\n",
    "        print('n={0:0.3f}'.format(n))\n",
    "        \n",
    "    ell=np.zeros(n)\n",
    "    ell[:nlin]=np.arange(nlin)*deltal+minval\n",
    "    ell[nlin:]=10**( (np.log10(maxval/ltrans))*points + np.log10(ltrans) )\n",
    "\n",
    "    return ell"
   ]
  },
  {
   "cell_type": "code",
   "execution_count": null,
   "id": "ba318ccf",
   "metadata": {},
   "outputs": [],
   "source": [
    "def bin_in_rings(mapin, ell_bins, kmap, kpower=0):\n",
    "    pk = np.zeros_like(ell_bins[:-1])\n",
    "    deltal = np.diff(ell_bins)\n",
    "    ell = ell_bins[:-1] + deltal / 2.\n",
    "    ind_log = deltal > deltal[0]\n",
    "    ell[ind_log] = np.sqrt(ell_bins[:-1] * ell_bins[1:])[ind_log]\n",
    "    for i in range(len(ell_bins[:-1])):\n",
    "        ind_ell = (kmap >= ell_bins[i]) & (kmap < ell_bins[i + 1])\n",
    "        pk[i] = np.mean(mapin[ind_ell] * kmap[ind_ell] ** kpower) / \\\n",
    "                ell[i] ** kpower\n",
    "        #ell[i] = np.mean(kmap[ind_ell])\n",
    "    return pk, ell"
   ]
  },
  {
   "cell_type": "raw",
   "id": "e873b030",
   "metadata": {},
   "source": [
    "def bin_in_rings(mapin, ell_bins, kmap, kpower=0):\n",
    "    pk = np.zeros_like(ell_bins[:-1])\n",
    "    for i in range(len(ell_bins[:-1])):\n",
    "        ind_ell = (kmap >= ell_bins[i]) & (kmap < ell_bins[i+1])\n",
    "        \n",
    "        if kpower:\n",
    "            #Ck[i]=MEAN(spec[R[R[I] : R[I+1]-1]]*k[R[R[I] : R[I+1]-1]]^kpower)/(binnedell[i]^kpower)\n",
    "            pk[i]=np.mean(mapin[ind_ell] * kmap[ind_ell]**kpower)/np.mean(ell_bins[i:i+2])**kpower\n",
    "        else:\n",
    "            pk[i]=np.mean(mapin[ind_ell])\n",
    "    return pk"
   ]
  }
 ],
 "metadata": {
  "kernelspec": {
   "display_name": "Python 3 (ipykernel)",
   "language": "python",
   "name": "python3"
  },
  "language_info": {
   "codemirror_mode": {
    "name": "ipython",
    "version": 3
   },
   "file_extension": ".py",
   "mimetype": "text/x-python",
   "name": "python",
   "nbconvert_exporter": "python",
   "pygments_lexer": "ipython3",
   "version": "3.10.8"
  }
 },
 "nbformat": 4,
 "nbformat_minor": 5
}
